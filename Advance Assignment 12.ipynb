{
 "cells": [
  {
   "attachments": {},
   "cell_type": "markdown",
   "metadata": {},
   "source": [
    "# Q1. Does assigning a value to a string&#39;s indexed character violate Python&#39;s string immutability?\n",
    "        Yes, assigning a value to a string's indexed character directly violates Python's string immutability. In Python, strings are immutable, which means that once a string is created, its individual characters cannot be modified.\n",
    "        \n",
    "\n"
   ]
  },
  {
   "cell_type": "code",
   "execution_count": 1,
   "metadata": {},
   "outputs": [
    {
     "ename": "TypeError",
     "evalue": "'str' object does not support item assignment",
     "output_type": "error",
     "traceback": [
      "\u001b[1;31m---------------------------------------------------------------------------\u001b[0m",
      "\u001b[1;31mTypeError\u001b[0m                                 Traceback (most recent call last)",
      "Cell \u001b[1;32mIn[1], line 3\u001b[0m\n\u001b[0;32m      1\u001b[0m string \u001b[39m=\u001b[39m \u001b[39m\"\u001b[39m\u001b[39mMd Saif Ali\u001b[39m\u001b[39m\"\u001b[39m\n\u001b[1;32m----> 3\u001b[0m string[\u001b[39m2\u001b[39;49m] \u001b[39m=\u001b[39m \u001b[39m'\u001b[39m\u001b[39m-\u001b[39m\u001b[39m'\u001b[39m\n",
      "\u001b[1;31mTypeError\u001b[0m: 'str' object does not support item assignment"
     ]
    }
   ],
   "source": [
    "string = \"Md Saif Ali\"\n",
    "\n",
    "string[2] = '-'"
   ]
  },
  {
   "attachments": {},
   "cell_type": "markdown",
   "metadata": {},
   "source": [
    "# Q2. Does using the += operator to concatenate strings violate Python&#39;s string immutability? Why or why not?\n",
    "\n",
    "       No. When we concatenate string, we assign new value to the same string variable. We are not altering string based on the indexes, so it won't violate Python's string immutability"
   ]
  },
  {
   "attachments": {},
   "cell_type": "markdown",
   "metadata": {},
   "source": [
    "# Q3. In Python, how many different ways are there to index a character?\n",
    "\n",
    "    There are 2 common ways to index a character within a string: using positive indexing and using negative indexing.\n",
    "\n",
    "    1. POsitive indexing : Positive indexing starts from the leftmost character of the string with an index of 0 and increases sequentially. \n",
    "\n",
    "    2. Negaitve Indexing : Negative indexing starts from the rightmost character of the string with an index of -1 and decreases sequentially."
   ]
  },
  {
   "attachments": {},
   "cell_type": "markdown",
   "metadata": {},
   "source": [
    "# Q4. What is the relationship between indexing and slicing?\n",
    "\n",
    "        Indexing and slicing are both ways to access specific elements within a sequence object, such as strings, lists, or tuples.\n",
    "\n",
    "        INDEXING : Indexing allows you to access a single element at a specific position within a sequence. It is done using square brackets \"[]\" and providing the index of the desired element.\n",
    "\n",
    "        SLICING : Slicing allows you to extract a subsequence or a slice from a sequence by specifying a range of indices. It is done using the colon \":\" operator inside square brackets \"[]\" and providing the start index, end index (exclusive), and an optional step value.\n",
    "\n",
    "        The relationship between slicing and indexing is that  indexing allows you to access individual elements, slicing allows you to extract a range of elements as a new subsequence while  slicing is an extension of indexing"
   ]
  },
  {
   "attachments": {},
   "cell_type": "markdown",
   "metadata": {},
   "source": [
    "# Q5. What is an indexed character&#39;s exact data type? What is the data form of a slicing-generated substring?\n",
    "\n",
    "        An indexed character within a string is of type \"str\". \n",
    "        \n",
    "        A slicing-generated substring from a string is also of type str. A substring obtained through slicing is a new string object that contains a portion of the original string."
   ]
  },
  {
   "attachments": {},
   "cell_type": "markdown",
   "metadata": {},
   "source": [
    "# Q6. What is the relationship between string and character &quot;types&quot; in Python?\n",
    "\n",
    "        There is no \"char\" data type, even a single character enclosed in doubble quotes is considered as \"str\" type.\n",
    "        \n",
    "        a string is a sequence of characters. Each character within a string is represented as a string of length 1. Therefore, in Python, there is no distinct \"character\" type separate from the string type."
   ]
  },
  {
   "attachments": {},
   "cell_type": "markdown",
   "metadata": {},
   "source": [
    "# Q7. Identify at least two operators and one method that allow you to combine one or more smaller strings to create a larger string.\n",
    "\n",
    "        There are several operators and methods that allow you to combine smaller strings to create a larger string. Two commonly used operators are the concatenation operator \"+\" and the augmented assignment operator \"+=\". One frequently used method is the \"join()\" method."
   ]
  },
  {
   "cell_type": "code",
   "execution_count": 6,
   "metadata": {},
   "outputs": [
    {
     "name": "stdout",
     "output_type": "stream",
     "text": [
      "Md Saif Ali\n"
     ]
    }
   ],
   "source": [
    "str1 = \"Md Saif\"\n",
    "str2 = \"Ali\"\n",
    "result = str1 + \" \" + str2\n",
    "print(result)"
   ]
  },
  {
   "cell_type": "code",
   "execution_count": 5,
   "metadata": {},
   "outputs": [
    {
     "name": "stdout",
     "output_type": "stream",
     "text": [
      "Md Saif Ali\n"
     ]
    }
   ],
   "source": [
    "str1 = \"Md Saif \"\n",
    "str1 += \"Ali\"\n",
    "print(str1)"
   ]
  },
  {
   "cell_type": "code",
   "execution_count": 7,
   "metadata": {},
   "outputs": [
    {
     "name": "stdout",
     "output_type": "stream",
     "text": [
      "Md Saif Ali\n"
     ]
    }
   ],
   "source": [
    "words = [\"Md\", \"Saif\", \"Ali\"]\n",
    "result = \" \".join(words)\n",
    "print(result)"
   ]
  },
  {
   "attachments": {},
   "cell_type": "markdown",
   "metadata": {},
   "source": [
    "# Q8. What is the benefit of first checking the target string with in or not in before using the index method to find a substring?\n",
    "\n",
    "        The benefit of first checking the target string with \"in\" or \"not in\" before using the \"index()\" method to find a substring is to avoid a ValueError if the substring is not present in the target string."
   ]
  },
  {
   "attachments": {},
   "cell_type": "markdown",
   "metadata": {},
   "source": [
    "# Q9. Which operators and built-in string methods produce simple Boolean (true/false) results?\n",
    "\n",
    "        Several operators and built-in string methods in Python produce simple Boolean (true/false) results.\n",
    "\n",
    "        1. Comparison operators : (== ,!= ,< ,> ,<=, >=) \n",
    "        2. Logical Operators : (and, or, not)\n",
    "        3. Identity Operators : (is , is not)\n",
    "        4. Membership Operators : (in, not in)\n",
    "\n",
    "        String methods:\n",
    "\n",
    "    1.  endswith()      : Returns true if the string ends with the specified value \n",
    "    2.  isalnum()       : Returns True if all characters in the string are alphanumeric        \n",
    "    3.  isalpha()       : Returns True if all characters in the string are in the alphabet        \n",
    "    4.  isdecimal()     : Returns True if all characters in the string are decimals       \n",
    "    5.  isdigit()       : Returns True if all characters in the string are digits        \n",
    "    6.  isidentifier()\t: Returns True if the string is an identifier        \n",
    "    7.  islower()\t    : Returns True if all characters in the string are lower case        \n",
    "    8.  isnumeric()\t    : Returns True if all characters in the string are numeric        \n",
    "    9.  isprintable()\t: Returns True if all characters in the string are printable        \n",
    "    10. isspace()\t    : Returns True if all characters in the string are whitespaces        \n",
    "    11. istitle()\t    : Returns True if the string follows the rules of a title        \n",
    "    12. isupper()\t    : Returns True if all characters in the string are upper case"
   ]
  }
 ],
 "metadata": {
  "kernelspec": {
   "display_name": "Python 3",
   "language": "python",
   "name": "python3"
  },
  "language_info": {
   "codemirror_mode": {
    "name": "ipython",
    "version": 3
   },
   "file_extension": ".py",
   "mimetype": "text/x-python",
   "name": "python",
   "nbconvert_exporter": "python",
   "pygments_lexer": "ipython3",
   "version": "3.8.0"
  },
  "orig_nbformat": 4
 },
 "nbformat": 4,
 "nbformat_minor": 2
}
