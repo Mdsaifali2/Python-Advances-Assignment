{
 "cells": [
  {
   "attachments": {},
   "cell_type": "markdown",
   "metadata": {},
   "source": [
    "# Q1. What is the meaning of multiple inheritance?\n",
    "\n",
    "        Multiple inheritance is a feature in object-oriented programming languages that allows a class to inherit from more than one parent class. This means that a class can have multiple direct base classes, and can thus inherit attributes and methods from all of them.\n",
    "        Multiple inheritance can be a powerful tool for creating complex class hierarchies and for reusing code, but it can also lead to issues such as the diamond problem, where two parent classes of a class have a method with the same name. In such cases, the class must explicitly resolve the conflict by choosing which method to use or by providing its own implementation."
   ]
  },
  {
   "attachments": {},
   "cell_type": "markdown",
   "metadata": {},
   "source": [
    "# Q2. What is the concept of delegation?\n",
    "\n",
    "        Delegation is a programming pattern in which an object forwards a method call to another object, rather than implementing the method itself.\n",
    "        Delegation is often used in situations where a class needs to use functionality from another class, but does not want to inherit from that class directly or duplicate its code. Instead, the class can delegate the relevant method calls to an instance of the other class, which can handle the method and return a result.\n"
   ]
  },
  {
   "attachments": {},
   "cell_type": "markdown",
   "metadata": {},
   "source": [
    "# Q3. What is the concept of composition?\n",
    "\n",
    "        Composition is a concept in object-oriented programming where an object is made up of other objects as its parts or components. It is a way to combine objects to create more complex objects that can perform more complex tasks. In composition, objects are designed to work together to achieve a common goal.\n",
    "        Composition can help create more modular and maintainable code, as each component object can be designed and tested independently, and can be reused in other composite objects. It can also help achieve a cleaner design, as it promotes separation of concerns and allows for a more granular approach to object design."
   ]
  },
  {
   "attachments": {},
   "cell_type": "markdown",
   "metadata": {},
   "source": [
    "# Q4. What are bound methods and how do we use them?\n",
    "\n",
    "        A bound method is one that has \"self\" as its first argument. Since these are dependent on the instance of classes, these are also known as \"instance methods\".\n",
    "        If a function is an attribute of class and it is accessed via the instances, they are called \"bound methods\"."
   ]
  },
  {
   "attachments": {},
   "cell_type": "markdown",
   "metadata": {},
   "source": [
    "# Q5. What is the purpose of pseudoprivate attributes?\n",
    "\n",
    "        The purpose of pseudoprivate attributes is to provide a form of name protection for class attributes. They are not intended to be used to provide true data encapsulation or security, but rather to prevent name clashes between attributes in different classes.\n",
    "        pseudoprivate attributes are attributes that have names starting with two underscores (__) but do not end with two or more underscores. These attributes are also called name mangling attributes.\n",
    "        "
   ]
  },
  {
   "cell_type": "code",
   "execution_count": 2,
   "metadata": {},
   "outputs": [
    {
     "name": "stdout",
     "output_type": "stream",
     "text": [
      "Public method\n",
      "Private method\n",
      "\n",
      "Inside derived class\n",
      "Public method\n",
      "Private method\n"
     ]
    }
   ],
   "source": [
    "# Creating a Base class\n",
    "class Base:\n",
    " \n",
    "    # Declaring public method\n",
    "    def fun(self):\n",
    "        print(\"Public method\")\n",
    " \n",
    "    # Declaring private method\n",
    "    def __fun(self):\n",
    "        print(\"Private method\")\n",
    "    \n",
    "    # Calling private method via\n",
    "    # another method    \n",
    "    def help(self):\n",
    "        self.__fun()\n",
    " # Creating a derived class\n",
    " \n",
    "class Derived(Base):\n",
    "    def __init__(self):\n",
    " \n",
    "        # Calling constructor of\n",
    "        # Base class\n",
    "        Base.__init__(self)\n",
    " \n",
    "    def call_public(self):\n",
    " \n",
    "        # Calling public method of base class\n",
    "        print(\"\\nInside derived class\")\n",
    "        self.fun()\n",
    " \n",
    "    def call_private(self):\n",
    " \n",
    "        # Calling private method of base class\n",
    "        self.__fun()\n",
    "\n",
    " #Driver code\n",
    "obj1 = Base()\n",
    " \n",
    "obj1.fun()\n",
    "obj1.help() #calling private method via another method\n",
    "#obj1.__fun() #will raise an AttributeError\n",
    "obj2 = Derived()\n",
    "obj2.call_public()\n",
    "obj2.help()\n",
    "#obj2.call_private()  # will also raise an AttributeError"
   ]
  },
  {
   "cell_type": "code",
   "execution_count": null,
   "metadata": {},
   "outputs": [],
   "source": []
  }
 ],
 "metadata": {
  "kernelspec": {
   "display_name": "Python 3",
   "language": "python",
   "name": "python3"
  },
  "language_info": {
   "codemirror_mode": {
    "name": "ipython",
    "version": 3
   },
   "file_extension": ".py",
   "mimetype": "text/x-python",
   "name": "python",
   "nbconvert_exporter": "python",
   "pygments_lexer": "ipython3",
   "version": "3.8.0"
  },
  "orig_nbformat": 4
 },
 "nbformat": 4,
 "nbformat_minor": 2
}
