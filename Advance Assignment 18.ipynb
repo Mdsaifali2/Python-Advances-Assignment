{
 "cells": [
  {
   "attachments": {},
   "cell_type": "markdown",
   "metadata": {},
   "source": [
    "# Q1. Describe the differences between text and binary files in a single paragraph.\n",
    "\n",
    "        Text files are human-readable files that contain plain text data encoded in a specific character encoding, such as ASCII or UTF-8. They typically store textual information, such as documents, source code, or configuration files.\n",
    "        \n",
    "        Binary files store data in a non-text format, typically as a sequence of bytes. Binary files can contain any type of data, such as images, audio, video, executables, or serialized objects. Unlike text files, binary files are not intended to be directly readable by humans.\n"
   ]
  },
  {
   "attachments": {},
   "cell_type": "markdown",
   "metadata": {},
   "source": [
    "# Q2. What are some scenarios where using text files will be the better option? When would you like to use binary files instead of text files?\n",
    "\n",
    "        Text files are typically a better option in scenarios where the data is primarily human-readable and editable.\n",
    "        Some Example of scenario where text file is beneficial are Storing plain text documents, Configuration files, Source code files.\n",
    "\n",
    "        Binary Files are preffer in scenarios where the data is not inteded to be directly human readable or editable and a more compact ot specific data is required.s\n",
    "        Some Example of scenario where binary file is going to be advantageuos are  Storing images, audio, and video files, Serialized data, Executable files."
   ]
  },
  {
   "attachments": {},
   "cell_type": "markdown",
   "metadata": {},
   "source": [
    "# Q3. What are some of the issues with using binary operations to read and write a Python integer directly to disc?\n",
    "\n",
    "        Binary operations to directly read and write a Python integer to disk can introduce several issues like :\n",
    "\n",
    "        1. Endianness\n",
    "        2. Data type limitations\n",
    "        3. Portability\n",
    "        4. Platform dependence"
   ]
  },
  {
   "attachments": {},
   "cell_type": "markdown",
   "metadata": {},
   "source": [
    "# Q4. Describe a benefit of using the with keyword instead of explicitly opening a file.\n",
    "\n",
    "        Ussing the \"with\" keyword in Python to open a file has the benefit of automatically managing the file's resources, ensuring that it is properly closed regardless of whether an exception occurs or not. When using the \"with\" statement, there is no need to explicitly call the \"close()\" method on the file object. The with statement takes care of closing the file once the block of code inside it is executed, even if an exception is raised."
   ]
  },
  {
   "attachments": {},
   "cell_type": "markdown",
   "metadata": {},
   "source": [
    "# Q5. Does Python have the trailing newline while reading a line of text? Does Python append a newline when you write a line of text?\n",
    "\n",
    "        Yes Python have the trailing newline while reading a line of text. When we write a newline has to be provided in python excplicitly."
   ]
  },
  {
   "attachments": {},
   "cell_type": "markdown",
   "metadata": {},
   "source": [
    "# Q6. What file operations enable for random-access operation?\n",
    "\n",
    "        we can achiev the rancdom access operation on files by using the \"seek()\" and \"tell()\" function.\n",
    "        seek() :- this method is used to move the files current postition to specific bytes allowing for random access.\n",
    "        tell() :- this method returns the current position in the file."
   ]
  },
  {
   "attachments": {},
   "cell_type": "markdown",
   "metadata": {},
   "source": [
    "# Q7. When do you think you&#39;ll use the struct package the most?\n",
    "\n",
    "        The \"struct\" package is mostly used while converting a common python types into \"C\" language types."
   ]
  },
  {
   "attachments": {},
   "cell_type": "markdown",
   "metadata": {},
   "source": [
    "# Q8. When is pickling the best option?\n",
    "\n",
    "        Once a file is created it can be read by other python programs. The functions available in the pickle package  take care how to represent the data is written in th file."
   ]
  },
  {
   "attachments": {},
   "cell_type": "markdown",
   "metadata": {},
   "source": [
    "# Q9. When will it be best to use the shelve package?\n",
    "\n",
    "        \"Shelve\" package is used to pickle data but treats the entire file as dictionary."
   ]
  },
  {
   "attachments": {},
   "cell_type": "markdown",
   "metadata": {},
   "source": [
    "# Q10. What is a special restriction when using the shelve package, as opposed to using other data dictionaries?\n",
    "\n",
    "        One special restriction when using the \"shelve\" package is that the keys in the data dictionary must be strings. "
   ]
  }
 ],
 "metadata": {
  "kernelspec": {
   "display_name": "Python 3",
   "language": "python",
   "name": "python3"
  },
  "language_info": {
   "codemirror_mode": {
    "name": "ipython",
    "version": 3
   },
   "file_extension": ".py",
   "mimetype": "text/x-python",
   "name": "python",
   "nbconvert_exporter": "python",
   "pygments_lexer": "ipython3",
   "version": "3.8.0"
  },
  "orig_nbformat": 4
 },
 "nbformat": 4,
 "nbformat_minor": 2
}
