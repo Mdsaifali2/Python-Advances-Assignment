{
 "cells": [
  {
   "attachments": {},
   "cell_type": "markdown",
   "metadata": {},
   "source": [
    "# 1. What is the concept of an abstract superclass?\n",
    "        An abstract superclass is a class that is designed to be subclassed but not instantiated directly. It is used to define a common interface or behavior for a group of related classes, without providing a concrete implementation for that behavior.\n",
    "\n",
    "        An abstract superclass can define abstract methods, which are methods that have no implementation in the superclass, but which must be implemented in any subclass. This allows the superclass to define a common interface that all subclasses must follow, while still allowing each subclass to provide its own implementation of that interface."
   ]
  },
  {
   "attachments": {},
   "cell_type": "markdown",
   "metadata": {},
   "source": [
    "# 2. What happens when a class statement&#39;s top level contains a basic assignment statement?\n",
    "        If a class statement's top level contains a basic assignment statement, then it creates a class variable. A class variable is a variable that is shared among all instances of the class. It can be accessed using the class name or any instance of the class. When a class is defined, the class variables are defined in the class's namespace."
   ]
  },
  {
   "attachments": {},
   "cell_type": "markdown",
   "metadata": {},
   "source": [
    "# 3. Why does a class need to manually call a superclass&#39;s __init__ method?\n",
    "\n",
    "        A class needs to manually call a superclass's __init__ method to ensure that the initialization code of both the superclass and subclass is executed properly, and that the subclass is fully initialized with all the attributes and behavior inherited from the superclass. If the superclass's __init__ method is not called explicitly, the subclass may not be fully initialized, and may not behave as expected."
   ]
  },
  {
   "cell_type": "code",
   "execution_count": 5,
   "metadata": {},
   "outputs": [
    {
     "name": "stdout",
     "output_type": "stream",
     "text": [
      "{'name': 'Saif Ai', 'age': 23, 'salary': 18500}\n"
     ]
    }
   ],
   "source": [
    "class Person:\n",
    "    def __init__(self,name,age):\n",
    "        self.name = name\n",
    "        self.age = age       \n",
    "        \n",
    "class Employee(Person):\n",
    "    def __init__(self,name,age,salary):\n",
    "        super().__init__(name,age)\n",
    "        self.salary = salary\n",
    "        \n",
    "emp = Employee('Saif Ai',23,18500)\n",
    "print(emp.__dict__)"
   ]
  },
  {
   "attachments": {},
   "cell_type": "markdown",
   "metadata": {},
   "source": [
    "# 4. How can you augment, instead of completely replacing, an inherited method?\n",
    "\n",
    "        To augment, instead of completely replacing, an inherited method in Python, you can use method overriding. steps are as follows : \n",
    "\n",
    "        1. Define the subclass and the overridden method: In the subclass, define a new method with the same name as the method you want to override in the superclass.\n",
    "\n",
    "        2. Use the super() function: In the overridden method, call the parent class's version of the method using the super() function.\n",
    "\n",
    "        3. Add additional functionality: Add additional functionality to the overridden method as needed."
   ]
  },
  {
   "attachments": {},
   "cell_type": "markdown",
   "metadata": {},
   "source": [
    "# 5. How is the local scope of a class different from that of a function?\n",
    "\n",
    "        A Variable which is defined inside a function is local to that function. it is accesible from the point at which it is defined until the end of the function, and exists for as long as the function is existing.\n",
    "\n",
    "        A variable inside of a class also has a local variable scope. Variables which are defined in the class body (but outside all methods) are called as class level variables or class attributes.They can also be accessed from outside."
   ]
  }
 ],
 "metadata": {
  "kernelspec": {
   "display_name": "Python 3",
   "language": "python",
   "name": "python3"
  },
  "language_info": {
   "codemirror_mode": {
    "name": "ipython",
    "version": 3
   },
   "file_extension": ".py",
   "mimetype": "text/x-python",
   "name": "python",
   "nbconvert_exporter": "python",
   "pygments_lexer": "ipython3",
   "version": "3.8.0"
  },
  "orig_nbformat": 4
 },
 "nbformat": 4,
 "nbformat_minor": 2
}
