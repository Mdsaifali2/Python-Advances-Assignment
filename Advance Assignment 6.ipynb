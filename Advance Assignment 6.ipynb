{
 "cells": [
  {
   "attachments": {},
   "cell_type": "markdown",
   "metadata": {},
   "source": [
    "# Q1. Describe three applications for exception processing.\n",
    "\n",
    "        Exception handling is an important concept in programming, and there are many applications for it. Here are three common examples of how exception processing can be used in Python:\n",
    "\n",
    "        1. Input validation: When accepting input from a user or from a file, it's important to validate the data to ensure that it's in the expected format. If the input is not valid, an exception can be raised to indicate the problem. For example, if you're expecting a number but the user enters a string, you can catch a \"ValueError\" exception and ask the user to enter a valid number.\n",
    "\n",
    "        2. File handling: When working with files, there are many things that can go wrong, such as the file not existing or not having the correct permissions. Exceptions can be used to handle these errors gracefully. For example, if you're trying to read a file and it doesn't exist, you can catch a FileNotFoundError exception and prompt the user to enter a valid file name.\n",
    "\n",
    "        3. Network communication: When working with network sockets or APIs, there are many possible errors that can occur, such as timeouts or connection errors. Exceptions can be used to handle these errors and retry the operation if necessary. For example, if you're sending a request to a web API and it times out, you can catch a \"TimeoutError\" exception and retry the request."
   ]
  },
  {
   "attachments": {},
   "cell_type": "markdown",
   "metadata": {},
   "source": [
    "# Q2. What happens if you don&#39;t do something extra to treat an exception?\n",
    "\n",
    "        If an exception is not handled using a try-except block it will cause the program to terminate abruptly and display an error message. This message will include information about the exception that was raised, such as the type of exception and the location in the program where it occurred. This is known as an \"unhandled exception\" and can make the program crash, which can lead to data loss or corruption. Therefore, it is important to handle exceptions properly to prevent these kinds of issues.\n"
   ]
  },
  {
   "attachments": {},
   "cell_type": "markdown",
   "metadata": {},
   "source": [
    "# Q3. What are your options for recovering from an exception in your script?\n",
    "\n",
    "        When an exception occurs in a script, the script terminates unless there is an exception handler to catch the exception.\n",
    "        Ways to handle exceptions and recover from them :\n",
    "\n",
    "        1. Raise a new exception: If you catch an exception but cannot handle it properly, you can raise a new exception with a more meaningful error message. This can help debug the code and make it easier to fix the root cause of the exception.\n",
    "\n",
    "        2. Use a try-except-else block: This is similar to a try-except block, but with an else block that is executed only if no exception is raised. This can be useful for separating the code that could raise an exception from the code that should run only if no exception occurs.\n",
    "\n",
    "        3. Use a try-finally block: This is similar to a try-except block, but without any except blocks. The finally block is executed regardless of whether an exception was raised or not. This can be useful for cleaning up resources, such as closing files or database connections.\n",
    "\n",
    "        4. Use a try-except block: By wrapping the code that could raise an exception in a try block, and providing one or more except blocks to handle specific exceptions or a generic exception, you can catch the exception and take appropriate action."
   ]
  },
  {
   "attachments": {},
   "cell_type": "markdown",
   "metadata": {},
   "source": [
    "# Q4. Describe two methods for triggering exceptions in your script.\n",
    "\n",
    "        You can trigger exceptions using the raise and assert statements.\n",
    "\n",
    "        1. The raise statement is used to raise an exception explicitly. It can be used to raise built-in exceptions, such as ValueError, or you can create your own custom exception classes.\n",
    "        \n",
    "        2. The assert statement is used to check that a condition is true, and if it is not, an exception is raised. It can be used for debugging and testing purposes."
   ]
  },
  {
   "cell_type": "code",
   "execution_count": 2,
   "metadata": {},
   "outputs": [
    {
     "ename": "ValueError",
     "evalue": "Cannot divide by zero",
     "output_type": "error",
     "traceback": [
      "\u001b[1;31m---------------------------------------------------------------------------\u001b[0m",
      "\u001b[1;31mValueError\u001b[0m                                Traceback (most recent call last)",
      "Cell \u001b[1;32mIn[2], line 7\u001b[0m\n\u001b[0;32m      5\u001b[0m         \u001b[39mraise\u001b[39;00m \u001b[39mValueError\u001b[39;00m(\u001b[39m\"\u001b[39m\u001b[39mCannot divide by zero\u001b[39m\u001b[39m\"\u001b[39m)\n\u001b[0;32m      6\u001b[0m     \u001b[39mreturn\u001b[39;00m x \u001b[39m/\u001b[39m y\n\u001b[1;32m----> 7\u001b[0m \u001b[39mprint\u001b[39m(divide(\u001b[39m10\u001b[39;49m, \u001b[39m0\u001b[39;49m))\n",
      "Cell \u001b[1;32mIn[2], line 5\u001b[0m, in \u001b[0;36mdivide\u001b[1;34m(x, y)\u001b[0m\n\u001b[0;32m      3\u001b[0m \u001b[39mdef\u001b[39;00m \u001b[39mdivide\u001b[39m(x, y):\n\u001b[0;32m      4\u001b[0m     \u001b[39mif\u001b[39;00m y \u001b[39m==\u001b[39m \u001b[39m0\u001b[39m:\n\u001b[1;32m----> 5\u001b[0m         \u001b[39mraise\u001b[39;00m \u001b[39mValueError\u001b[39;00m(\u001b[39m\"\u001b[39m\u001b[39mCannot divide by zero\u001b[39m\u001b[39m\"\u001b[39m)\n\u001b[0;32m      6\u001b[0m     \u001b[39mreturn\u001b[39;00m x \u001b[39m/\u001b[39m y\n",
      "\u001b[1;31mValueError\u001b[0m: Cannot divide by zero"
     ]
    }
   ],
   "source": [
    "# Example of \"raise\" statement\n",
    "\n",
    "def divide(x, y):\n",
    "    if y == 0:\n",
    "        raise ValueError(\"Cannot divide by zero\")\n",
    "    return x / y\n",
    "print(divide(10, 0))"
   ]
  },
  {
   "cell_type": "code",
   "execution_count": 6,
   "metadata": {},
   "outputs": [
    {
     "ename": "AssertionError",
     "evalue": "Cannot divide by zero",
     "output_type": "error",
     "traceback": [
      "\u001b[1;31m---------------------------------------------------------------------------\u001b[0m",
      "\u001b[1;31mAssertionError\u001b[0m                            Traceback (most recent call last)",
      "Cell \u001b[1;32mIn[6], line 7\u001b[0m\n\u001b[0;32m      4\u001b[0m     \u001b[39massert\u001b[39;00m y \u001b[39m!=\u001b[39m \u001b[39m0\u001b[39m, \u001b[39m\"\u001b[39m\u001b[39mCannot divide by zero\u001b[39m\u001b[39m\"\u001b[39m\n\u001b[0;32m      5\u001b[0m     \u001b[39mreturn\u001b[39;00m x \u001b[39m/\u001b[39m y\n\u001b[1;32m----> 7\u001b[0m \u001b[39mprint\u001b[39m(divide(\u001b[39m10\u001b[39;49m, \u001b[39m0\u001b[39;49m))\n",
      "Cell \u001b[1;32mIn[6], line 4\u001b[0m, in \u001b[0;36mdivide\u001b[1;34m(x, y)\u001b[0m\n\u001b[0;32m      3\u001b[0m \u001b[39mdef\u001b[39;00m \u001b[39mdivide\u001b[39m(x, y):\n\u001b[1;32m----> 4\u001b[0m     \u001b[39massert\u001b[39;00m y \u001b[39m!=\u001b[39m \u001b[39m0\u001b[39m, \u001b[39m\"\u001b[39m\u001b[39mCannot divide by zero\u001b[39m\u001b[39m\"\u001b[39m\n\u001b[0;32m      5\u001b[0m     \u001b[39mreturn\u001b[39;00m x \u001b[39m/\u001b[39m y\n",
      "\u001b[1;31mAssertionError\u001b[0m: Cannot divide by zero"
     ]
    }
   ],
   "source": [
    "# Example of \"assert\" statement\n",
    "\n",
    "def divide(x, y):\n",
    "    assert y != 0, \"Cannot divide by zero\"\n",
    "    return x / y\n",
    "\n",
    "print(divide(10, 0))"
   ]
  },
  {
   "attachments": {},
   "cell_type": "markdown",
   "metadata": {},
   "source": [
    "# Q5. Identify two methods for specifying actions to be executed at termination time, regardless of whether or not an exception exists.\n",
    "\n",
    "        Python Provides \"else\" and \"finally\" blocks for specifying actions to be executed at termination time, regardless of whether an exceptions exists or not.\n"
   ]
  }
 ],
 "metadata": {
  "kernelspec": {
   "display_name": "Python 3",
   "language": "python",
   "name": "python3"
  },
  "language_info": {
   "codemirror_mode": {
    "name": "ipython",
    "version": 3
   },
   "file_extension": ".py",
   "mimetype": "text/x-python",
   "name": "python",
   "nbconvert_exporter": "python",
   "pygments_lexer": "ipython3",
   "version": "3.8.0"
  },
  "orig_nbformat": 4
 },
 "nbformat": 4,
 "nbformat_minor": 2
}
