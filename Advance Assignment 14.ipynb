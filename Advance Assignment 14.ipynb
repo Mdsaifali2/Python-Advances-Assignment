{
 "cells": [
  {
   "attachments": {},
   "cell_type": "markdown",
   "metadata": {},
   "source": [
    "# Q1. Is an assignment operator like += only for show? Is it possible that it would lead to faster results at the runtime?\n",
    "\n",
    "        No, the assignment operator += is not just for show.\n",
    "\n",
    "        The use of += can sometimes lead to faster results at runtime, depending on the context. Here are a couple of reasons why += can be advantageous:-\n",
    "        \n",
    "        Effficiency : In some cases, using += can be more efficient than creating a new object and assigning it back to the variable using =. This is particularly true for mutable objects like lists or arrays. With +=, you modify the existing object in-place.\n",
    "\n",
    "        Readability and conciseness :- The += operator provides a concise way to express in-place addition, making the code more readable and compact. It can enhance code clarity, especially when you want to update the value of a variable by incrementing or accumulating it."
   ]
  },
  {
   "attachments": {},
   "cell_type": "markdown",
   "metadata": {},
   "source": [
    "# Q2. What is the smallest number of statements you&#39;d have to write in most programming languages to replace the Python expression a, b = a + b, a?\n",
    "\n",
    "    In most programming languages, including Python, the smallest number of statements you would have to write to replace the Python expression a, b = a + b, a is three statements. \n",
    "    \n",
    "    >> temp = a + b\n",
    "    >> a = temp\n",
    "    >> b = a"
   ]
  },
  {
   "attachments": {},
   "cell_type": "markdown",
   "metadata": {},
   "source": [
    "# Q3. In Python, what is the most effective way to set a list of 100 integers to 0?"
   ]
  },
  {
   "cell_type": "code",
   "execution_count": 5,
   "metadata": {},
   "outputs": [
    {
     "name": "stdout",
     "output_type": "stream",
     "text": [
      "[0, 0, 0, 0, 0, 0, 0, 0, 0, 0, 0, 0, 0, 0, 0, 0, 0, 0, 0, 0, 0, 0, 0, 0, 0, 0, 0, 0, 0, 0, 0, 0, 0, 0, 0, 0, 0, 0, 0, 0, 0, 0, 0, 0, 0, 0, 0, 0, 0, 0, 0, 0, 0, 0, 0, 0, 0, 0, 0, 0, 0, 0, 0, 0, 0, 0, 0, 0, 0, 0, 0, 0, 0, 0, 0, 0, 0, 0, 0, 0, 0, 0, 0, 0, 0, 0, 0, 0, 0, 0, 0, 0, 0, 0, 0, 0, 0, 0, 0, 0]\n",
      "100\n"
     ]
    }
   ],
   "source": [
    "lst = [0]*100\n",
    "print(lst)\n",
    "print(len(lst))"
   ]
  },
  {
   "attachments": {},
   "cell_type": "markdown",
   "metadata": {},
   "source": [
    "# Q4. What is the most effective way to initialise a list of 99 integers that repeats the sequence 1, 2, 3? S If necessary, show step-by-step instructions on how to accomplish this.\n",
    "\n"
   ]
  },
  {
   "cell_type": "code",
   "execution_count": 8,
   "metadata": {},
   "outputs": [
    {
     "name": "stdout",
     "output_type": "stream",
     "text": [
      "[1, 2, 3, 1, 2, 3, 1, 2, 3, 1, 2, 3, 1, 2, 3, 1, 2, 3, 1, 2, 3, 1, 2, 3, 1, 2, 3, 1, 2, 3, 1, 2, 3, 1, 2, 3, 1, 2, 3, 1, 2, 3, 1, 2, 3, 1, 2, 3, 1, 2, 3, 1, 2, 3, 1, 2, 3, 1, 2, 3, 1, 2, 3, 1, 2, 3, 1, 2, 3, 1, 2, 3, 1, 2, 3, 1, 2, 3, 1, 2, 3, 1, 2, 3, 1, 2, 3, 1, 2, 3, 1, 2, 3, 1, 2, 3, 1, 2, 3]\n",
      "99\n"
     ]
    }
   ],
   "source": [
    "lst = [1,2,3]*33\n",
    "print(lst)\n",
    "print(len(lst))"
   ]
  },
  {
   "attachments": {},
   "cell_type": "markdown",
   "metadata": {},
   "source": [
    "# Q5. If you&#39;re using IDLE to run a Python application, explain how to print a multidimensional list as efficiently?\n",
    "\n",
    "    "
   ]
  },
  {
   "cell_type": "code",
   "execution_count": 13,
   "metadata": {},
   "outputs": [
    {
     "name": "stdout",
     "output_type": "stream",
     "text": [
      "1\n",
      "2\n",
      "3\n",
      "4\n",
      "5\n",
      "6\n",
      "7\n",
      "8\n",
      "9\n"
     ]
    }
   ],
   "source": [
    "my_list = [[1, 2, 3], [4, 5, 6], [7, 8, 9]]\n",
    "\n",
    "for i in range(len(my_list)):\n",
    "    for j in range(len(my_list)):\n",
    "        print(my_list[i][j])"
   ]
  },
  {
   "attachments": {},
   "cell_type": "markdown",
   "metadata": {},
   "source": [
    "# Q6. Is it possible to use list comprehension with a string? If so, how can you go about doing it?\n",
    "\n"
   ]
  },
  {
   "cell_type": "code",
   "execution_count": 15,
   "metadata": {},
   "outputs": [
    {
     "name": "stdout",
     "output_type": "stream",
     "text": [
      "['MM', 'dd', '  ', 'SS', 'aa', 'ii', 'ff', '  ', 'AA', 'll', 'ii']\n"
     ]
    }
   ],
   "source": [
    "text = \"Md Saif Ali\"\n",
    "lst = [i*2 for i in text]\n",
    "print(lst)"
   ]
  },
  {
   "attachments": {},
   "cell_type": "markdown",
   "metadata": {},
   "source": [
    "# Q7. From the command line, how do you get support with a user-written Python programme? Is this possible from inside IDLE?\n",
    "\n",
    "    From the command line, you can get support with a user-written Python program by executing the program with the -h or --help option.\n"
   ]
  },
  {
   "attachments": {},
   "cell_type": "markdown",
   "metadata": {},
   "source": [
    "# Q8. Functions are said to be “first-class objects” in Python but not in most other languages, such as C++ or Java. What can you do in Python with a function (callable object) that you can&#39;t do in C or C++?\n",
    "\n",
    "        In Python, functions are considered \"first-class objects,\" which means they can be treated just like any other object, such as integers, strings, or lists. This allows you to perform several operations on functions that are not possible in languages like C or C++. Here are some things you can do with functions in Python that you can't easily do in C or C++:\n",
    "\n",
    "        1. Assign functions to variables\n",
    "        2. Pass functions as arguments\n",
    "        3. Return functions from functions\n",
    "        4. Define functions inside other functions\n",
    "        5. Store functions in data structures"
   ]
  },
  {
   "attachments": {},
   "cell_type": "markdown",
   "metadata": {},
   "source": [
    "# Q9. How do you distinguish between a wrapper, a wrapped feature, and a decorator?\n",
    "\n",
    "        A wrapper, a wrapped feature, and a decorator are all same. They can be thought of as functions which modify the functionality of another function. They help to make your code shorter and more \"Pythonic\"."
   ]
  },
  {
   "attachments": {},
   "cell_type": "markdown",
   "metadata": {},
   "source": [
    "# Q10. If a function is a generator function, what does it return?\n",
    "\n",
    "        A generator function in Python does not return a value, Instead, it yields a sequence of values using the yield keyword. When a generator function is called, it returns an iterator object, which can be used to iterate over the values generated by the function."
   ]
  },
  {
   "attachments": {},
   "cell_type": "markdown",
   "metadata": {},
   "source": [
    "# Q11. What is the one improvement that must be made to a function in order for it to become a generator function in the Python language?\n",
    "\n",
    "    To convert a regular function into a generator function in Python, yweou need to replace the \"return\" statements with \"yield\" statements."
   ]
  },
  {
   "attachments": {},
   "cell_type": "markdown",
   "metadata": {},
   "source": [
    "# Q12. Identify at least one benefit of generators.\n",
    "\n",
    "        One benefit of generators in Python is that they provide a memory-efficient way to generate and process large sequences of data. Instead of generating the entire sequence upfront and storing it in memory, generators produce values on the fly as they are requested, reducing the memory consumption."
   ]
  },
  {
   "cell_type": "code",
   "execution_count": 16,
   "metadata": {},
   "outputs": [
    {
     "name": "stdout",
     "output_type": "stream",
     "text": [
      "0\n",
      "1\n",
      "1\n",
      "2\n",
      "3\n",
      "5\n",
      "8\n",
      "13\n",
      "21\n",
      "34\n"
     ]
    }
   ],
   "source": [
    "def fibonacci():\n",
    "    a, b = 0, 1\n",
    "    while True:\n",
    "        yield a\n",
    "        a, b = b, a + b\n",
    "\n",
    "fib_gen = fibonacci()\n",
    "\n",
    "for _ in range(10):\n",
    "    print(next(fib_gen))\n"
   ]
  }
 ],
 "metadata": {
  "kernelspec": {
   "display_name": "Python 3",
   "language": "python",
   "name": "python3"
  },
  "language_info": {
   "codemirror_mode": {
    "name": "ipython",
    "version": 3
   },
   "file_extension": ".py",
   "mimetype": "text/x-python",
   "name": "python",
   "nbconvert_exporter": "python",
   "pygments_lexer": "ipython3",
   "version": "3.8.0"
  },
  "orig_nbformat": 4
 },
 "nbformat": 4,
 "nbformat_minor": 2
}
