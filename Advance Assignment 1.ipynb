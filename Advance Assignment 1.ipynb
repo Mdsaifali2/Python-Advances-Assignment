{
 "cells": [
  {
   "attachments": {},
   "cell_type": "markdown",
   "metadata": {},
   "source": [
    "# Q1. What is the purpose of Python&#39;s OOP?\n",
    "\n",
    "        The purpose of Object-Oriented Programming (OOP) in Python is to enable developers to create complex software systems that are modular, scalable, and easier to maintain and extend. OOP allows developers to organize their code into objects, which are self-contained units of code that encapsulate data and behavior.\n",
    "        \n",
    "        By using OOP in Python, developers can create more modular, reusable, and maintainable code. OOP also makes it easier to collaborate on larger code bases, as objects can be developed independently and then integrated into a larger system.\n",
    "        \n",
    "        the main Purpose of Python's OOP are as follow:\n",
    "\n",
    "        1. Abstraction: OOP allows developers to abstract away the complexity of a system by encapsulating data and behavior into objects. This makes it easier to reason about a system and reduces the complexity of the code.\n",
    "\n",
    "        2. Encapsulation: Encapsulation allows developers to hide the implementation details of an object and expose only the relevant methods and data. This makes it easier to maintain and extend a system, as changes to the implementation of an object do not affect the rest of the system.\n",
    "\n",
    "        3. Inheritance: Inheritance allows developers to create new objects that are based on existing objects, inheriting their attributes and methods. This makes it easier to reuse code and reduces the amount of code that needs to be written.\n",
    "\n",
    "        4. Polymorphism: Polymorphism allows developers to create objects that can take on multiple forms. This makes it easier to create flexible and extensible systems, as objects can be used in multiple contexts."
   ]
  },
  {
   "attachments": {},
   "cell_type": "markdown",
   "metadata": {},
   "source": [
    "# Q2. Where does an inheritance search look for an attribute?\n",
    "\n",
    "        When an attribute is accessed on an object, the interpreter first looks for that attribute in the object itself. If the attribute is not found in the object, the interpreter then looks for the attribute in the object's class. If the attribute is still not found in the class, the interpreter then looks for the attribute in the class's parent class (also known as the superclass). This process continues up the inheritance hierarchy until either the attribute is found or there are no more superclasses to search."
   ]
  },
  {
   "attachments": {},
   "cell_type": "markdown",
   "metadata": {},
   "source": [
    "# Q3. How do you distinguish between a class object and an instance object?\n",
    "\n",
    "        A class object is a blueprint for creating instance objects. A class defines the attributes and behavior of an object, but does not actually create an object itself. An instance object, on the other hand, is an object that is created from a class and has its own set of attributes and behavior.\n",
    "\n",
    "        The difference between class object and instance objects are as follows:\n",
    "        \n",
    "        1. Class is a template for creating objects whereas object is an instance of class.\n",
    "        2. A Class is created once and Many objects are created using a class.\n",
    "        3. A class object is defined using the class keyword, followed by the class name and a\n",
    "        colon whereas An instance object is created using the name of the class followed by\n",
    "        parentheses.\n",
    "        4. Class objects are used to define attributes and behavior that are shared by\n",
    "        all instance objects created from the class. on the other hand, Instance objects have\n",
    "        their own set of attributes and behavior that are specific to that instance."
   ]
  },
  {
   "attachments": {},
   "cell_type": "markdown",
   "metadata": {},
   "source": [
    "# Q4. What makes the first argument in a class’s method function special?\n",
    "\n",
    "        The self argument is what makes the method function an instance method, which means that it can access and modify the attributes of the instance it was called on. Without the self argument, the method function would not have access to the instance's attributes."
   ]
  },
  {
   "attachments": {},
   "cell_type": "markdown",
   "metadata": {},
   "source": [
    "# Q5. What is the purpose of the __init__ method?\n",
    "\n",
    "        The \"__init__\" method is a special method that is called when an instance of a class is\n",
    "        created Its purpose is to initialize the attributes of the instance to their initial\n",
    "        values.\n",
    "        The __init__ method takes one mandatory argument, self, which refers to the instance of\n",
    "        the class that is being created. It can also take additional arguments that are used to\n",
    "        set the initial values of the instance's attributes."
   ]
  },
  {
   "attachments": {},
   "cell_type": "markdown",
   "metadata": {},
   "source": [
    "# Q6. What is the process for creating a class instance?\n",
    "\n",
    "        The Process of creating the instance of a class, Follow these steps :\n",
    "        \n",
    "        1. Define the class : First, you need to define the class that you want to create\n",
    "        an instance of. A class is defined using the \"class\" keyword, followed by the name\n",
    "        of the class, and a colon.\n",
    "\n",
    "        2. Define the constructor: The constructor is a special method that is used to\n",
    "        initialize the instance's attributes. It is called automatically when an instance\n",
    "        of the class is created. The constructor is defined using the \"def\" keyword,\n",
    "        followed by \"__init__\", and the arguments that you want to pass to it.\n",
    "\n",
    "        3. Create the instance : To create an instance of the class, you simply call the\n",
    "        class as if it were a function, passing any arguments that the constructor requires.\n",
    "        This will create a new instance of the class, with the attributes initialized to\n",
    "        their default values.\n",
    "\n",
    "        4. Access the instance's attributes and methods : Once you have created an instance\n",
    "        of the class, you can access its attributes and methods using the dot notation.\n",
    "        For example, if the class has an attribute called \"name\", you can access it using\n",
    "        \"instance_name.name\"."
   ]
  },
  {
   "attachments": {},
   "cell_type": "markdown",
   "metadata": {},
   "source": [
    "# Q7. What is the process for creating a class?\n",
    "\n",
    "        The process for creating a class first we need Define the class using the \"class\" keyword, followed by the name of the class, and a colon. then Define the Constructor this is a special method that is used to initialize the instance's attributes. It is called automatically when an instance of the class is created. this is defined using the \"def\" keyword, followed by \"__init__\", and the arguments that you want to pass to it.\n",
    "\n"
   ]
  },
  {
   "attachments": {},
   "cell_type": "markdown",
   "metadata": {},
   "source": [
    "# Q8. How would you define the superclasses of a class?\n",
    "\n",
    "         We can define a subclass by inheriting from one or more superclasses. To define the superclasses of a class, you simply list them in parentheses after the class name in the class definition."
   ]
  },
  {
   "cell_type": "code",
   "execution_count": 2,
   "metadata": {},
   "outputs": [],
   "source": [
    "class SuperClass1:\n",
    "    def method1(self):\n",
    "        print(\"This is method 1 of SuperClass1.\")\n",
    "\n",
    "class SuperClass2:\n",
    "    def method2(self):\n",
    "        print(\"This is method 2 of SuperClass2.\")\n",
    "\n",
    "class SubClass(SuperClass1, SuperClass2):\n",
    "    def method3(self):\n",
    "        print(\"This is method 3 of SubClass.\")"
   ]
  },
  {
   "cell_type": "code",
   "execution_count": 3,
   "metadata": {},
   "outputs": [],
   "source": [
    "obj = SubClass()"
   ]
  },
  {
   "cell_type": "code",
   "execution_count": 6,
   "metadata": {},
   "outputs": [
    {
     "name": "stdout",
     "output_type": "stream",
     "text": [
      "This is method 1 of SuperClass1.\n",
      "This is method 2 of SuperClass2.\n",
      "This is method 3 of SubClass.\n"
     ]
    }
   ],
   "source": [
    "obj.method1()\n",
    "obj.method2()\n",
    "obj.method3()"
   ]
  }
 ],
 "metadata": {
  "kernelspec": {
   "display_name": "Python 3",
   "language": "python",
   "name": "python3"
  },
  "language_info": {
   "codemirror_mode": {
    "name": "ipython",
    "version": 3
   },
   "file_extension": ".py",
   "mimetype": "text/x-python",
   "name": "python",
   "nbconvert_exporter": "python",
   "pygments_lexer": "ipython3",
   "version": "3.8.0"
  },
  "orig_nbformat": 4
 },
 "nbformat": 4,
 "nbformat_minor": 2
}
