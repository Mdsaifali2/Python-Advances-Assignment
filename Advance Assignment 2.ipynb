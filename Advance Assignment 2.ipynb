{
 "cells": [
  {
   "attachments": {},
   "cell_type": "markdown",
   "metadata": {},
   "source": [
    "# Q1. What is the relationship between classes and modules?\n",
    "\n",
    "        A module is a file containing Python definitions and statements. It can be used to organize related code into a single file for better code organization and maintainability.\n",
    "        A module can contain functions, classes, variables, and constants that can be used in other programs or modules. Modules are a way to reuse code and simplify the development process.\n",
    "        Python has a large standard library that includes many pre-built modules that can be used to perform common tasks such as file I/O, networking, and web development.\n",
    "\n",
    "        A class is a blueprint or a template for creating objects that define their properties and behaviors. It is a way to define a custom data type that encapsulates data and functions into a single entity.\n",
    "        A class is defined using the class keyword, followed by the name of the class and a colon. The class body contains the class methods and attributes."
   ]
  },
  {
   "attachments": {},
   "cell_type": "markdown",
   "metadata": {},
   "source": [
    "# Q2. How do you make instances and classes?\n",
    "\n",
    "        For creating a class instance. we call a class by its name and pass the arguments which its \"init\" method accepts.\n",
    "\n",
    "        Whereas for creating a class, we use the \"Class\" keyword. Class keyword is followed by classname and semicolon.\n",
    "\n",
    "\n"
   ]
  },
  {
   "attachments": {},
   "cell_type": "markdown",
   "metadata": {},
   "source": [
    "# Q3. Where and how should be class attributes created?\n",
    "\n",
    "        Class attributes are attributes that are shared by all instances of a class. They are created inside the class definition, but outside of any method definition.\n",
    "\n",
    "        Example: In the below example, count is an attribute in the Student class. Whenever a new object is created, the value of count is incremented by 1. You can now access the count attribute after creating the objects."
   ]
  },
  {
   "cell_type": "code",
   "execution_count": 3,
   "metadata": {},
   "outputs": [],
   "source": [
    "class Employe:\n",
    "    count = 0\n",
    "    def __init__(self):\n",
    "        Employe.count += 1"
   ]
  },
  {
   "attachments": {},
   "cell_type": "markdown",
   "metadata": {},
   "source": [
    "# Q4. Where and how are instance attributes created?\n",
    "\n",
    "         Instances attributes are passed to the class when an object of the class is created. Unlike class attributes, instance attributes are not shared by all objects of the classs. instead each object maintains its own copy of instance attributes at object level. whereas incase of class attributes all instances of class refer to a single copy. Usually instance attributes are defined within the \"init\" method of class."
   ]
  },
  {
   "attachments": {},
   "cell_type": "markdown",
   "metadata": {},
   "source": [
    "# Q5. What does the term &quot;self&quot; in a Python class mean?\n",
    "\n",
    "        In Python, \"self\" is a reference to the instance of a class. It is a convention to name the first parameter of instance methods \"self\", although you can use any name you like. When you call a method on an instance of a class, the instance is automatically passed as the first argument to the method, and this argument is typically named \"self\"."
   ]
  },
  {
   "attachments": {},
   "cell_type": "markdown",
   "metadata": {},
   "source": [
    "# Q6. How does a Python class handle operator overloading?\n",
    "\n",
    "        Python Classes handle operator overloading by using special methods called \"Magic methods\".\n",
    "\n",
    "        Example:\n",
    "        1. \"+ = __add(self, other)\" , \"– = sub(self, other)\"\n",
    "        2. \"* = mul(self, other)\" , \"/ = truediv(self, other)\"\n",
    "        3. \"// = floordiv(self, other)\" , \"% = mod(self, other)\"\n",
    "        4. \"** = pow(self, other)\" , \"& = and(self, other)\"\n",
    "        5. \"| = or(self, other)\""
   ]
  },
  {
   "attachments": {},
   "cell_type": "markdown",
   "metadata": {},
   "source": [
    "# Q7. When do you consider allowing operator overloading of your classes?\n",
    "\n",
    "        Operator overloading can be useful when you want to make your class behave like a built-in type, or when you want to define custom behavior for operators that make sense in the context of your class.\n",
    "        For example, if you were writing a Vector class, you might want to overload the + operator to allow you to add two vectors together. This would make the code more readable and intuitive, as you could write something like v3 = v1 + v2 instead of v3 = Vector(v1.x + v2.x, v1.y + v2.y)."
   ]
  },
  {
   "attachments": {},
   "cell_type": "markdown",
   "metadata": {},
   "source": [
    "# Q8. What is the most popular form of operator overloading?\n",
    "        The most popular form of operator overloading is probably the arithmetic operators, such as +, -, *, and /. This is because these operators are commonly used with built-in types like integers and floats, and overloading them allows you to use them with custom classes in a more intuitive way.\n"
   ]
  },
  {
   "cell_type": "code",
   "execution_count": 9,
   "metadata": {},
   "outputs": [
    {
     "name": "stdout",
     "output_type": "stream",
     "text": [
      "Sum = 31\n",
      "String Concatenation = Md Saif Ali\n"
     ]
    }
   ],
   "source": [
    "class OperatorClass:\n",
    "    def __init__(self,n):\n",
    "        self.n = n\n",
    "    def __add__(self,o):\n",
    "        return self.n+o.n\n",
    "    \n",
    "obj_1 = OperatorClass(10)\n",
    "obj_2 = OperatorClass(21)\n",
    "obj_3 = OperatorClass('Md Saif ')\n",
    "obj_4 = OperatorClass('Ali')\n",
    "print(f'Sum = {obj_1+obj_2}')\n",
    "print(f'String Concatenation = {obj_3+obj_4}')"
   ]
  },
  {
   "attachments": {},
   "cell_type": "markdown",
   "metadata": {},
   "source": [
    "# Q9. What are the two most important concepts to grasp in order to comprehend Python OOP code?\n",
    "\n",
    "        Inheritance and Polymorphism are the two important concept to grasp in order to comprehend python OOPs code."
   ]
  }
 ],
 "metadata": {
  "kernelspec": {
   "display_name": "Python 3",
   "language": "python",
   "name": "python3"
  },
  "language_info": {
   "codemirror_mode": {
    "name": "ipython",
    "version": 3
   },
   "file_extension": ".py",
   "mimetype": "text/x-python",
   "name": "python",
   "nbconvert_exporter": "python",
   "pygments_lexer": "ipython3",
   "version": "3.8.0"
  },
  "orig_nbformat": 4
 },
 "nbformat": 4,
 "nbformat_minor": 2
}
