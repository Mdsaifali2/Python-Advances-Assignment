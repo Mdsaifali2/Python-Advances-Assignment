{
 "cells": [
  {
   "attachments": {},
   "cell_type": "markdown",
   "metadata": {},
   "source": [
    "# Q1. What is the benefit of regular expressions?\n",
    "\n",
    "        some benefits of using regular expressions\n",
    "\n",
    "        Pattern Matching: Regular expressions allow you to search for specific patterns of text within a larger string. This can be useful for tasks such as validating input, extracting specific information from a string.\n",
    "\n",
    "        Flexibility: Regular expressions provide a rich set of syntax and special characters that allow you to define complex patterns. You can specify exact matches, search for patterns with wildcards, use quantifiers to match multiple occurrences, and much more.\n",
    "\n",
    "        Efficiency: Regular expressions are highly optimized for performance, allowing you to process large amounts of text efficiently.\n"
   ]
  },
  {
   "cell_type": "code",
   "execution_count": 2,
   "metadata": {},
   "outputs": [
    {
     "name": "stdout",
     "output_type": "stream",
     "text": [
      "['shaikhsaifali346@gmail.com', 'mdsaifali5455@gmail.com']\n"
     ]
    }
   ],
   "source": [
    "import re\n",
    "\n",
    "text = \"Contact us at shaikhsaifali346@gmail.com or mdsaifali5455@gmail.com for assistance.\"\n",
    "\n",
    "pattern = r\"\\b[\\w.-]+@[\\w.-]+\\.\\w+\\b\"\n",
    "emails = re.findall(pattern, text)\n",
    "\n",
    "print(emails)"
   ]
  },
  {
   "attachments": {},
   "cell_type": "markdown",
   "metadata": {},
   "source": [
    "# Q2. Describe the difference between the effects of &quot;(ab)c+&quot; and &quot;a(bc)+.&quot; Which of these, if any, is the unqualified pattern &quot;abc+&quot;?\n",
    "\n",
    "        Pattern a(bc)+ will search for at only one occurence of \"a\" and one or more occurances of bc.\n",
    "\n",
    "        Pattern (ab)c+ will search for at only one occurence of \"ab\" and one or more occurances of c.\n",
    "\n",
    "        pattern (ab)c+ can be unqualified pattern \"abc+\"\n"
   ]
  },
  {
   "cell_type": "code",
   "execution_count": 6,
   "metadata": {},
   "outputs": [
    {
     "name": "stdout",
     "output_type": "stream",
     "text": [
      "abcccccc\n",
      "abcbc\n"
     ]
    }
   ],
   "source": [
    "import re\n",
    "\n",
    "match1 = re.search(r'(ab)c+',\"abcccccc\")\n",
    "match2 = re.search(r'a(bc)+',\"abcbc\")\n",
    "\n",
    "print(match1.group())\n",
    "print(match2.group())"
   ]
  },
  {
   "attachments": {},
   "cell_type": "markdown",
   "metadata": {},
   "source": [
    "# Q3. How much do you need to use the following sentence while using regular expressions?\n",
    "\n",
    "import re\n",
    "\n",
    "    We have to use it everytime when we use functions of the re module ."
   ]
  },
  {
   "attachments": {},
   "cell_type": "markdown",
   "metadata": {},
   "source": [
    "# Q4. Which characters have special significance in square brackets when expressing a range, and under what circumstances?\n",
    "\n",
    "        1. Dash (\"-\"): The dash is used to specify a range of characters. For example, \"[a-z]\" represents all lowercase letters from 'a' to 'z'.\n",
    "\n",
    "        2. Caret (\"^\"): When the caret is placed as the first character inside square brackets, it negates the character class. It matches any character that is not in the specified range. For example, \"[^0-9]\" matches any character that is not a digit.\n",
    "\n",
    "        3. Backslash (\"\\\"): The backslash is used to escape special characters within square brackets. For example, to match a literal dash, you can use \"\\-\" inside square brackets."
   ]
  },
  {
   "attachments": {},
   "cell_type": "markdown",
   "metadata": {},
   "source": [
    "# Q5. How does compiling a regular-expression object benefit you?\n",
    "\n",
    "        It has several benefits :\n",
    "\n",
    "        1. Improved Performance: When you compile a regular expression pattern into a regex object, it is pre-processed and optimized, which can result in improved performance when you repeatedly use the pattern. The compilation step is done only once, and the compiled object can be reused multiple times.\n",
    "\n",
    "        2. Readability and Maintainability: By compiling a regular expression, you separate the pattern definition from its usage. This can make your code more readable and maintainable, especially if you need to reuse the pattern at multiple places in your code."
   ]
  },
  {
   "cell_type": "code",
   "execution_count": 7,
   "metadata": {},
   "outputs": [
    {
     "name": "stdout",
     "output_type": "stream",
     "text": [
      "['Hello', 'World']\n",
      "['This', 'is', 'a', 'test']\n",
      "['Hello', 'World']\n",
      "['This', 'is', 'a', 'test']\n"
     ]
    }
   ],
   "source": [
    "import re\n",
    "\n",
    "pattern = r'\\b[A-Za-z]+\\b'\n",
    "\n",
    "result1 = re.findall(pattern, 'Hello World')\n",
    "result2 = re.findall(pattern, 'This is a test')\n",
    "\n",
    "regex = re.compile(pattern)\n",
    "result3 = regex.findall('Hello World')\n",
    "result4 = regex.findall('This is a test')\n",
    "\n",
    "print(result1)\n",
    "print(result2)\n",
    "print(result3)\n",
    "print(result4)"
   ]
  },
  {
   "attachments": {},
   "cell_type": "markdown",
   "metadata": {},
   "source": [
    "# Q6. What are some examples of how to use the match object returned by re.match and re.search?\n",
    "\n",
    "        When using the re.match() and re.search() functions in Pythons regular expressions module re, they return a match object if a match is found. \n",
    "        These methods and attributes of the match object allow you to extract and work with the matched portions of the text in your regular expression matches."
   ]
  },
  {
   "cell_type": "code",
   "execution_count": 8,
   "metadata": {},
   "outputs": [
    {
     "name": "stdout",
     "output_type": "stream",
     "text": [
      "Match found!\n",
      "Matched text: Hello\n",
      "Start position: 0\n",
      "End position: 5\n",
      "Match span: (0, 5)\n"
     ]
    }
   ],
   "source": [
    "import re\n",
    "\n",
    "pattern = r'Hello'\n",
    "text = 'Hello World'\n",
    "\n",
    "match = re.match(pattern, text)\n",
    "if match:\n",
    "    print('Match found!')\n",
    "    print('Matched text:', match.group())\n",
    "    print('Start position:', match.start())\n",
    "    print('End position:', match.end())\n",
    "    print('Match span:', match.span())\n",
    "else:\n",
    "    print('No match found.')"
   ]
  },
  {
   "cell_type": "code",
   "execution_count": 9,
   "metadata": {},
   "outputs": [
    {
     "name": "stdout",
     "output_type": "stream",
     "text": [
      "Match found!\n",
      "Matched text: World\n",
      "Start position: 6\n",
      "End position: 11\n",
      "Match span: (6, 11)\n"
     ]
    }
   ],
   "source": [
    "import re\n",
    "\n",
    "pattern = r'World'\n",
    "text = 'Hello World'\n",
    "\n",
    "match = re.search(pattern, text)\n",
    "if match:\n",
    "    print('Match found!')\n",
    "    print('Matched text:', match.group())\n",
    "    print('Start position:', match.start())\n",
    "    print('End position:', match.end())\n",
    "    print('Match span:', match.span())\n",
    "else:\n",
    "    print('No match found.')\n"
   ]
  },
  {
   "attachments": {},
   "cell_type": "markdown",
   "metadata": {},
   "source": [
    "# Q7. What is the difference between using a vertical bar (|) as an alteration and using square brackets as a character set?\n",
    "\n",
    "        1. Vertical Bar (\"|\") as an Alternation:\n",
    "        -> The vertical bar acts as an alternation operator in regular expressions, allowing you to match either of two options.\n",
    "\n",
    "        -> For example, the pattern cat|dog matches either \"cat\" or \"dog\" in the input string.\n",
    "\n",
    "        -> It is used for choosing between different options.\n",
    "\n",
    "\n",
    "        2. Square Brackets ([]) as a Character Set:\n",
    "        -> Square brackets define a character set in regular expressions, allowing you to match any single character from the set.\n",
    "\n",
    "        -> It is used to specify a range or set of characters that can be matched.\n",
    "\n",
    "        -> For example, the pattern [aeiou] matches any lowercase vowel character in the input string.\n",
    "\n",
    "        -> It is used for specifying a set of characters to match against.\n",
    "\n",
    "        The vertical bar \"|\" is used for alternation, allowing you to choose between different options, while square brackets \"[]\" are used for defining character sets, allowing you to match any single character from the specified set. They serve different purposes in regular expressions."
   ]
  },
  {
   "attachments": {},
   "cell_type": "markdown",
   "metadata": {},
   "source": [
    "# Q8. In regular-expression search patterns, why is it necessary to use the raw-string indicator (r)? In replacement strings?\n",
    "\n",
    "        Raw Strings are used in the regular-expression search patterns, so that backslash do not have to be escaped. When one wants to match a literal backslash, it must be escaped in the regular expression. With raw string notation, this means r\"\\\". Without raw string notation, one must use 4 times back slashes"
   ]
  }
 ],
 "metadata": {
  "kernelspec": {
   "display_name": "Python 3",
   "language": "python",
   "name": "python3"
  },
  "language_info": {
   "codemirror_mode": {
    "name": "ipython",
    "version": 3
   },
   "file_extension": ".py",
   "mimetype": "text/x-python",
   "name": "python",
   "nbconvert_exporter": "python",
   "pygments_lexer": "ipython3",
   "version": "3.8.0"
  },
  "orig_nbformat": 4
 },
 "nbformat": 4,
 "nbformat_minor": 2
}
