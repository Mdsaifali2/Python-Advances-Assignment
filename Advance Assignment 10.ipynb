{
 "cells": [
  {
   "attachments": {},
   "cell_type": "markdown",
   "metadata": {},
   "source": [
    "# Q1. What is the difference between __getattr__ and __getattribute__?\n",
    "\n",
    "        Both __getattr__ and __getattribute__ are special methods in Python that are used to handle attribute access in a class.\n",
    "\n",
    "        1. \"__getattr__\" is called only when an attribute cannot be found through the normal lookup of an object's instance dictionary and its class hierarchy. It is called only after \"__getattribute__\" has already been called and raised an \"AttributeError\".\n",
    "        \n",
    "        2. \"__getattribute__\" is called every time an attribute is accessed on an object, regardless of whether the attribute exists or not. It is called first, before \"__getattr__\", and is used to handle attribute access even for existing attributes."
   ]
  },
  {
   "cell_type": "code",
   "execution_count": 29,
   "metadata": {},
   "outputs": [
    {
     "name": "stdout",
     "output_type": "stream",
     "text": [
      "__getattribute__ called for num\n",
      "42\n",
      "__getattribute__ called for text\n",
      "__getattr__ called for text\n",
      "text not found\n"
     ]
    }
   ],
   "source": [
    "class iNeuron:\n",
    "    def __init__(self, num):\n",
    "        self.num = num\n",
    "\n",
    "    def __getattr__(self, name):\n",
    "        print(f\"__getattr__ called for {name}\")\n",
    "        return f\"{name} not found\"\n",
    "\n",
    "    def __getattribute__(self, name):\n",
    "        print(f\"__getattribute__ called for {name}\")\n",
    "        return super().__getattribute__(name)\n",
    "\n",
    "ob = iNeuron(42)\n",
    "\n",
    "print(ob.num)\n",
    "print(ob.text)"
   ]
  },
  {
   "attachments": {},
   "cell_type": "markdown",
   "metadata": {},
   "source": [
    "# Q2. What is the difference between properties and descriptors?\n",
    "\n",
    "        Properties are a simpler way of defining read-only or read-write attributes. They are created using the \"property()\" built-in function or as decorators, and allow you to define methods for getting, setting and deleting the attribute value. Properties are accessed as attributes of the instance.\n",
    "\n",
    "        Example :"
   ]
  },
  {
   "cell_type": "code",
   "execution_count": 30,
   "metadata": {},
   "outputs": [
    {
     "name": "stdout",
     "output_type": "stream",
     "text": [
      "10\n",
      "10\n",
      "100\n"
     ]
    }
   ],
   "source": [
    "class Rectangle:\n",
    "    def __init__(self, width, height):\n",
    "        self._width = width\n",
    "        self._height = height\n",
    "    @property\n",
    "    def width(self):\n",
    "        return self._width\n",
    "    @property\n",
    "    def height(self):\n",
    "        return self._height\n",
    "    @property\n",
    "    def area(self):\n",
    "        return self._width * self._height\n",
    "    \n",
    "    \n",
    "obj = Rectangle(10,10)\n",
    "print(obj.width)\n",
    "print(obj.height)\n",
    "print(obj.area)"
   ]
  },
  {
   "attachments": {},
   "cell_type": "markdown",
   "metadata": {},
   "source": [
    "        Descriptors are more powerful than properties and provide a way to define attributes with custom behavior for getting, setting and deleting their values. Descriptors are defined as separate classes that implement the \"__get__\", \"__set__\" and/or \"__delete__\" methods, and can be used in multiple classes. Descriptors are accessed as attributes of the class.\n",
    "\n",
    "        Example :"
   ]
  },
  {
   "cell_type": "code",
   "execution_count": 28,
   "metadata": {},
   "outputs": [
    {
     "name": "stdout",
     "output_type": "stream",
     "text": [
      "HELLO\n",
      "WORLD\n"
     ]
    }
   ],
   "source": [
    "class UpperCase:\n",
    "    \n",
    "    def __get__(self, instance, owner):\n",
    "        return instance._value.upper()\n",
    "    \n",
    "    def __set__(self, instance, value):\n",
    "        instance._value = value\n",
    "        \n",
    "class MyString:\n",
    "    def __init__(self, value):\n",
    "        self._value = value\n",
    "\n",
    "    name = UpperCase()\n",
    "\n",
    "s = MyString(\"hello\")\n",
    "print(s.name)\n",
    "s.name = \"world\"\n",
    "print(s.name)"
   ]
  },
  {
   "attachments": {},
   "cell_type": "markdown",
   "metadata": {},
   "source": [
    "# Q3. What are the key differences in functionality between __getattr__ and __getattribute__, as well as properties and descriptors?\n",
    "\n",
    "        \"__getattr__\" is called only when an attribute cannot be found through the normal lookup of an object's instance dictionary and its class hierarchy. It is called only after \"__getattribute__\" has already been called and raised an \"AttributeError\".\n",
    "        \n",
    "        \"__getattribute__\" is called every time an attribute is accessed on an object, regardless of whether the attribute exists or not. It is called first, before \"__getattr__\", and is used to handle attribute access even for existing attributes.\n",
    "\n",
    "        Properties are a simpler way of defining read-only or read-write attributes. They are created using the \"property()\" built-in function or as decorators, and allow you to define methods for getting, setting and deleting the attribute value. Properties are accessed as attributes of the instance.\n",
    "\n",
    "        Descriptors are more powerful than properties and provide a way to define attributes with custom behavior for getting, setting and deleting their values. Descriptors are defined as separate classes that implement the \"__get__\", \"__set__\" and/or \"__delete__\" methods, and can be used in multiple classes. Descriptors are accessed as attributes of the class.\n"
   ]
  }
 ],
 "metadata": {
  "kernelspec": {
   "display_name": "Python 3",
   "language": "python",
   "name": "python3"
  },
  "language_info": {
   "codemirror_mode": {
    "name": "ipython",
    "version": 3
   },
   "file_extension": ".py",
   "mimetype": "text/x-python",
   "name": "python",
   "nbconvert_exporter": "python",
   "pygments_lexer": "ipython3",
   "version": "3.8.0"
  },
  "orig_nbformat": 4
 },
 "nbformat": 4,
 "nbformat_minor": 2
}
