{
 "cells": [
  {
   "attachments": {},
   "cell_type": "markdown",
   "metadata": {},
   "source": [
    "# Q1. In Python 3.X, what are the names and functions of string object types?\n",
    "\n",
    "        In Python 3.X, there are two string object types: str and bytes.\n",
    "\n",
    "        1. The str type represents a sequence of Unicode characters and is used for text data. It is the default string type in Python 3.X.\n",
    "\n",
    "        2. The bytes type represents a sequence of bytes and is used for binary data. It is used when you need to work with data that is not text, such as image or audio files.\n"
   ]
  },
  {
   "attachments": {},
   "cell_type": "markdown",
   "metadata": {},
   "source": [
    "# Q2. How do the string forms in Python 3.X vary in terms of operations?\n",
    "\n",
    "        Python supports ASCII as a subset of Unicode. The default encoding of characters in Python is UTF-8 (Unicode Transformation Format - 8-bit).ASCII is really a 7-bit character set; it is mapped to 8-bit bytes by setting the high bit to zero. Thus, ASCII characters are unchanged in UTF-8. A non-zero high bit indicates that a character composed of multiple bytes."
   ]
  },
  {
   "attachments": {},
   "cell_type": "markdown",
   "metadata": {},
   "source": [
    "# Q3. In 3.X, how do you put non-ASCII Unicode characters in a string?\n",
    "\n",
    "        In Python 3.X, we can directly put non-ASCII Unicode characters in a string by using Unicode escape sequences.\n",
    "        \n",
    "        For example, the Unicode code point for the letter \"é\" is U+00E9. To include this character in a string, we can use the escape sequence \"\\u\" followed by the four-digit hexadecimal code point. Alternatively, we can also use the escape sequence \"\\N{name}\" to include a Unicode character by its name."
   ]
  },
  {
   "cell_type": "code",
   "execution_count": 2,
   "metadata": {},
   "outputs": [
    {
     "name": "stdout",
     "output_type": "stream",
     "text": [
      "Café\n"
     ]
    }
   ],
   "source": [
    "my_string = \"Caf\\u00E9\"\n",
    "print(my_string)"
   ]
  },
  {
   "cell_type": "code",
   "execution_count": 5,
   "metadata": {},
   "outputs": [
    {
     "name": "stdout",
     "output_type": "stream",
     "text": [
      "The Rupee symbol is ₨.\n"
     ]
    }
   ],
   "source": [
    "my_string = \"The Rupee symbol is \\N{rupee sign}.\"\n",
    "print(my_string)"
   ]
  },
  {
   "attachments": {},
   "cell_type": "markdown",
   "metadata": {},
   "source": [
    "# Q4. In Python 3.X, what are the key differences between text-mode and binary-mode files?\n",
    "\n",
    "        Files can be opened in two modes - text mode and binary mode.\n",
    "        \n",
    "        The key differences between the two modes are:\n",
    "\n",
    "        1. Text mode: In text mode, a file is opened as a sequence of Unicode characters, which means that you can read and write data in the form of strings. In text mode, the file data is automatically decoded to Unicode when it is read from the file, and it is automatically encoded to the appropriate format when it is written to the file. Text mode is the default mode in Python 3.x.\n",
    "\n",
    "        2. Binary mode: In binary mode, a file is opened as a sequence of bytes, which means that you can read and write data in the form of bytes. In binary mode, the file data is not automatically decoded or encoded, which means that you need to manually encode and decode the data as necessary. Binary mode is useful for reading and writing non-text files such as images, audio files, and executables."
   ]
  },
  {
   "attachments": {},
   "cell_type": "markdown",
   "metadata": {},
   "source": [
    "# Q5. How can you interpret a Unicode text file containing text encoded in a different encoding than your platform&#39;s default?\n",
    "\n",
    "        While reading file, we can specify the encoding such as(utf16, utf32), so the file will be decoded according to that encoding and results are returned to the user."
   ]
  },
  {
   "cell_type": "code",
   "execution_count": 6,
   "metadata": {},
   "outputs": [
    {
     "name": "stdout",
     "output_type": "stream",
     "text": [
      "Hello, this is md saif ali from ineuron.ai\n"
     ]
    }
   ],
   "source": [
    "txt = \"Hello, this is md saif ali from ineuron.ai\"\n",
    "f = open('sample.txt','w', encoding='utf16')\n",
    "f.write(txt)\n",
    "f.close()\n",
    "\n",
    "f = open('sample.txt','r', encoding='utf16')\n",
    "print(f.read())"
   ]
  },
  {
   "cell_type": "code",
   "execution_count": 7,
   "metadata": {},
   "outputs": [
    {
     "name": "stdout",
     "output_type": "stream",
     "text": [
      "ହୋଉ ହେଲା ଓଡ଼ିଆ | ବହୁତ୍ ଛଇ ତୁମର\n"
     ]
    }
   ],
   "source": [
    "text = 'ହୋଉ ହେଲା ଓଡ଼ିଆ | ବହୁତ୍ ଛଇ ତୁମର'\n",
    "encoded_data = text.encode(\"utf16\")\n",
    "\n",
    "file = open(\"sample1.txt\", \"wb\")\n",
    "file.write(encoded_data)\n",
    "\n",
    "file = open(\"sample1.txt\", \"r\", encoding='utf16')\n",
    "\n",
    "print(file.read())"
   ]
  },
  {
   "attachments": {},
   "cell_type": "markdown",
   "metadata": {},
   "source": [
    "# Q6. What is the best way to make a Unicode text file in a particular encoding format?\n",
    "\n",
    "        To make a Unicode text file in a particular encoding format in Python 3.x, you can use the built-in open() function with the encoding parameter set to the desired encoding format."
   ]
  },
  {
   "cell_type": "code",
   "execution_count": 8,
   "metadata": {},
   "outputs": [],
   "source": [
    "# Example\n",
    "with open('file.txt', 'w', encoding='utf-8') as f:\n",
    "    f.write('Hello, world! नमस्ते')"
   ]
  },
  {
   "attachments": {},
   "cell_type": "markdown",
   "metadata": {},
   "source": [
    "        The \"open()\" function is used to open the file 'file.txt' in write mode ('w'). The encoding parameter is set to 'utf-8', which is the \"encoding\" format that supports most languages and characters. The \"with\" statement ensures that the file is properly closed after it's used.\n",
    "\n",
    "        The \"write()\" method is then used to write a string that contains both English and Hindi text to the file. Since the file is opened in UTF-8 encoding, it can properly store the Hindi characters as well."
   ]
  },
  {
   "attachments": {},
   "cell_type": "markdown",
   "metadata": {},
   "source": [
    "# Q7. What qualifies ASCII text as a form of Unicode text?\n",
    "\n",
    "        \"Unicode\" represents most written languages in the world. \"ASCII\" has its equivalent in Unicode. The difference between ASCII and Unicode is that ASCII represents 'lowercase letters (a-z)', 'uppercase letters (A-Z)', 'digits (0–9)' and symbols such as punctuation marks while Unicode represents letters of English, Arabic, Greek etc. mathematical symbols, historical scripts, emoji covering a wide range of characters than ASCII."
   ]
  },
  {
   "attachments": {},
   "cell_type": "markdown",
   "metadata": {},
   "source": [
    "# Q8. How much of an effect does the change in string types in Python 3.X have on your code?\n",
    "\n",
    "        In Python 3.X and later, there is only one string type that is unicode. So no effect on the code."
   ]
  }
 ],
 "metadata": {
  "kernelspec": {
   "display_name": "Python 3",
   "language": "python",
   "name": "python3"
  },
  "language_info": {
   "codemirror_mode": {
    "name": "ipython",
    "version": 3
   },
   "file_extension": ".py",
   "mimetype": "text/x-python",
   "name": "python",
   "nbconvert_exporter": "python",
   "pygments_lexer": "ipython3",
   "version": "3.8.0"
  },
  "orig_nbformat": 4
 },
 "nbformat": 4,
 "nbformat_minor": 2
}
