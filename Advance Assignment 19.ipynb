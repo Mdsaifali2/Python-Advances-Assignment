{
 "cells": [
  {
   "attachments": {},
   "cell_type": "markdown",
   "metadata": {},
   "source": [
    "# Q1. Define the relationship between a class and its instances. Is it a one-to-one or a one-to-many partnership, for example?\n",
    "\n",
    "        The relationship between a class and its instances is a one-to-many partnership. A class serves as a blueprint or template for creating multiple instances or objects. Each instance represents a unique occurrence of that class, with its own set of attributes and behaviors. The class defines the common properties and methods that are shared by all instances, while each instance can have its own specific values for the attributes.\n",
    "\n",
    "        A class can have multiple instances, and each instance has a separate existence with its own state and behavior."
   ]
  },
  {
   "attachments": {},
   "cell_type": "markdown",
   "metadata": {},
   "source": [
    "# Q2. What kind of data is held only in an instance?\n",
    "\n",
    "        Data that is held only in an instance of a class is typically referred to as instance data or instance variables. "
   ]
  },
  {
   "attachments": {},
   "cell_type": "markdown",
   "metadata": {},
   "source": [
    "# Q3. What kind of knowledge is stored in a class?\n",
    "\n",
    "        In a class, you can store various kinds of knowledge or information that are relevant to the objects created from that class. This includes attributes and methods. Attributes are variables that hold data associated with the class or its instances While Methods are functions defined within the class that can perform certain actions or provide functionality.\n"
   ]
  },
  {
   "attachments": {},
   "cell_type": "markdown",
   "metadata": {},
   "source": [
    "# Q4. What exactly is a method, and how is it different from a regular function?\n",
    "\n",
    "        A method is a function that is associated with a specific class and operates on the data of that class. It is called on instances of the class and can access instance-specific data through the self parameter. A regular function, on the other hand, is not bound to any specific class and can be called independently."
   ]
  },
  {
   "attachments": {},
   "cell_type": "markdown",
   "metadata": {},
   "source": [
    "# Q5. Is inheritance supported in Python, and if so, what is the syntax?\n",
    "\n",
    "        Yes Inhertance supported in python and the syntax is :"
   ]
  },
  {
   "cell_type": "code",
   "execution_count": 3,
   "metadata": {},
   "outputs": [
    {
     "name": "stdout",
     "output_type": "stream",
     "text": [
      "Buddy\n",
      "Woof!\n"
     ]
    }
   ],
   "source": [
    "class Animal:\n",
    "    def __init__(self, name):\n",
    "        self.name = name\n",
    "\n",
    "    def speak(self):\n",
    "        print(\"Animal speaks\")\n",
    "        \n",
    "class Dog(Animal):\n",
    "    def speak(self):\n",
    "        print(\"Woof!\")\n",
    "        \n",
    "my_dog = Dog(\"Buddy\")\n",
    "print(my_dog.name)\n",
    "my_dog.speak()\n"
   ]
  },
  {
   "attachments": {},
   "cell_type": "markdown",
   "metadata": {},
   "source": [
    "# Q6. How much encapsulation (making instance or class variables private) does Python support?\n",
    "\n",
    "        Python supports a limited form of encapsulation by using naming conventions to indicate the visibility and intended usage of variables and methods.\n",
    "        variables and methods that are intended to be private or internal to a class are prefixed with a single underscore _. This indicates that they are intended for internal use and should not be accessed directly from outside the class.\n",
    "        variables and methods that are considered truly private and should not be accessed externaly can be prefixed with double underscores __."
   ]
  },
  {
   "attachments": {},
   "cell_type": "markdown",
   "metadata": {},
   "source": [
    "# Q7. How do you distinguish between a class variable and an instance variable?\n",
    "\n",
    "        The Class variable is available to all the instance objects of that class while Instance Attributes are accessible only to the object or Instance of that class."
   ]
  },
  {
   "attachments": {},
   "cell_type": "markdown",
   "metadata": {},
   "source": [
    "# Q8. When, if ever, can self be included in a class&#39;s method definitions?\n",
    "\n",
    "        Yes Self can included in class method defination to access the instance variable inside class method.\n"
   ]
  },
  {
   "attachments": {},
   "cell_type": "markdown",
   "metadata": {},
   "source": [
    "# Q9. What is the difference between the _ _add_ _ and the _ _radd_ _ methods?\n",
    "\n",
    "        The __add__ method is called when the \"+\" operator is used with an instance of the class as the left operand. It defines the behavior of addition when the class object is on the left side of the \"+\" operator.\n",
    "\n",
    "        The __radd__ method, on the other hand, is called when the \"+\" operator is used with an instance of the class as the right operand. It defines the behavior of addition when the class object is on the right side of the \"+\" operator. The \"r\" in \"__radd__\" stands for \"reverse\"."
   ]
  },
  {
   "cell_type": "code",
   "execution_count": 4,
   "metadata": {},
   "outputs": [
    {
     "name": "stdout",
     "output_type": "stream",
     "text": [
      "Using __add__\n",
      "7\n",
      "Using __radd__\n",
      "7\n",
      "Using __add__\n",
      "12\n",
      "Using __radd__\n",
      "12\n"
     ]
    }
   ],
   "source": [
    "class MyClass:\n",
    "    def __init__(self, value):\n",
    "        self.value = value\n",
    "    \n",
    "    def __add__(self, other):\n",
    "        print(\"Using __add__\")\n",
    "        return self.value + other\n",
    "    \n",
    "    def __radd__(self, other):\n",
    "        print(\"Using __radd__\")\n",
    "        return other + self.value\n",
    "\n",
    "obj1 = MyClass(5)\n",
    "obj2 = MyClass(10)\n",
    "\n",
    "\n",
    "result1 = obj1 + 2\n",
    "print(result1)   # Output : Using __add__ 7\n",
    "\n",
    "result2 = 2 + obj1\n",
    "print(result2)   # Output : Using __radd__ 7\n",
    "\n",
    "\n",
    "result3 = obj2 + 2\n",
    "print(result3)   # Output : Using __add__ 12\n",
    "\n",
    "result4 = 2 + obj2\n",
    "print(result4)   # Output : Using __radd__ 12"
   ]
  },
  {
   "attachments": {},
   "cell_type": "markdown",
   "metadata": {},
   "source": [
    "# Q10. When is it necessary to use a reflection method? When do you not need it, even though you support the operation in question?\n",
    "\n",
    "        Reflection methods  are used to examine and manipulate objects at runtime. These methods provide information about the structure, attributes, and behavior of objects. They are necessary in scenarios where you need to dynamically analyze or modify objects based on their properties.\n",
    "        For example, if you know the specific attributes and methods of an object before hand and they are fixed, you can directly access or modify them without using reflection methods. \n",
    "\n"
   ]
  },
  {
   "attachments": {},
   "cell_type": "markdown",
   "metadata": {},
   "source": [
    "# Q11. What is the _ _iadd_ _ method called?\n",
    "\n",
    "        The \"__iadd__\" method is called the \"in-place addition\" method in Python. It is invoked when the \"+=\" operator is used to perform addition with an object. This method allows an object to define its behavior when the \"+=\" operator is applied to it."
   ]
  },
  {
   "cell_type": "code",
   "execution_count": 7,
   "metadata": {},
   "outputs": [
    {
     "name": "stdout",
     "output_type": "stream",
     "text": [
      "5\n",
      "8\n"
     ]
    }
   ],
   "source": [
    "class Number:\n",
    "    def __init__(self, value):\n",
    "        self.value = value\n",
    "\n",
    "    def __iadd__(self, other):\n",
    "        self.value += other\n",
    "        return self\n",
    "\n",
    "num = Number(5)\n",
    "print(num.value)\n",
    "\n",
    "num += 3\n",
    "print(num.value)"
   ]
  },
  {
   "attachments": {},
   "cell_type": "markdown",
   "metadata": {},
   "source": [
    "# Q12. Is the _ _init_ _ method inherited by subclasses? What do you do if you need to customize its behavior within a subclass?\n",
    "\n",
    "        Yes, the __init__ method is inherited by subclasses in Python. When a subclass is created, if it does not define its own __init__ method, it will automatically inherit the __init__ method from its parent class.\n",
    "        \n",
    "        If you need to customize the behavior of the __init__ method within a subclass, you can override the method by defining it in the subclass."
   ]
  }
 ],
 "metadata": {
  "kernelspec": {
   "display_name": "Python 3",
   "language": "python",
   "name": "python3"
  },
  "language_info": {
   "codemirror_mode": {
    "name": "ipython",
    "version": 3
   },
   "file_extension": ".py",
   "mimetype": "text/x-python",
   "name": "python",
   "nbconvert_exporter": "python",
   "pygments_lexer": "ipython3",
   "version": "3.8.0"
  },
  "orig_nbformat": 4
 },
 "nbformat": 4,
 "nbformat_minor": 2
}
