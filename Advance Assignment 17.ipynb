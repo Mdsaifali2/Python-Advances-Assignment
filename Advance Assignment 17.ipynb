{
 "cells": [
  {
   "attachments": {},
   "cell_type": "markdown",
   "metadata": {},
   "source": [
    "# Q1. Explain the difference between greedy and non-greedy syntax with visual terms in as few words as possible. What is the bare minimum effort required to transform a greedy pattern into a non-greedy one? What characters or characters can you introduce or change?\n",
    "\n",
    "        Greedy Syntax:\n",
    "\n",
    "        -> Greedy matching tries to match as much text as possible.\n",
    "        -> It matches the longest possible substring that satisfies the pattern.\n",
    "        -> It is denoted by adding a * or + after the pattern.\n",
    "        -> Example: pattern.* matches the longest possible substring starting from pattern.\n",
    "        \n",
    "        \n",
    "        Non-Greedy Syntax:\n",
    "\n",
    "        -> Non-greedy matching tries to match as little text as possible.\n",
    "        -> It matches the shortest possible substring that satisfies the pattern.\n",
    "        -> It is denoted by adding a *? or +? after the pattern.\n",
    "        -> Example: pattern.*? matches the shortest possible substring starting from pattern.\n",
    "\n",
    "\n",
    "        To transform a greedy pattern into a non-greedy one, you simply add a \"?\" after the \"*\" or \"+\" quantifier. This changes the behavior from greedy to non-greedy.\n",
    "\n",
    "        For example:\n",
    "        Greedy pattern : \"pattern.*\" matches the longest possible substring.\n",
    "        Non-greedy pattern : \"pattern.*?\" matches the shortest possible substring."
   ]
  },
  {
   "attachments": {},
   "cell_type": "markdown",
   "metadata": {},
   "source": [
    "# Q2. When exactly does greedy versus non-greedy make a difference?  What if you&#39;re looking for a non-greedy match but the only one available is greedy?\n",
    "\n",
    "        In the non-greedy version of the regex, Python matches the shortest possible string. In the greedy version, \n",
    "        Python matches the longest possible string. If only non greedy match is available, we can use other filtering or pattern matching methods of regex and further identify the required pattern.\n",
    "\n"
   ]
  },
  {
   "attachments": {},
   "cell_type": "markdown",
   "metadata": {},
   "source": [
    "# Q3. In a simple match of a string, which looks only for one match and does not do any replacement, is the use of a nontagged group likely to make any practical difference?"
   ]
  },
  {
   "cell_type": "code",
   "execution_count": 3,
   "metadata": {},
   "outputs": [
    {
     "name": "stdout",
     "output_type": "stream",
     "text": [
      "Phone number found: 415\n",
      "Phone number found: 415\n"
     ]
    }
   ],
   "source": [
    "import re\n",
    "phoneNumRegex = re.compile(r'\\d\\d\\d')\n",
    "mo = phoneNumRegex.search('My number is 415-555-4242.')\n",
    "print('Phone number found: ' + mo.group()) # Non-tagged group\n",
    "print('Phone number found: ' + mo.group(0)) # Tagged group"
   ]
  },
  {
   "attachments": {},
   "cell_type": "markdown",
   "metadata": {},
   "source": [
    "# Q4. Describe a scenario in which using a nontagged category would have a significant impact on the   program&#39;s outcomes.\n",
    "\n",
    "    \n",
    "\n"
   ]
  },
  {
   "cell_type": "code",
   "execution_count": 4,
   "metadata": {},
   "outputs": [
    {
     "data": {
      "text/plain": [
       "('135', '135')"
      ]
     },
     "execution_count": 4,
     "metadata": {},
     "output_type": "execute_result"
    }
   ],
   "source": [
    "import re\n",
    "text='135.135'\n",
    "pattern=r'(\\d+)(?:.)(\\d+)'\n",
    "regobj=re.compile(pattern)\n",
    "matobj=regobj.search(text)\n",
    "matobj.groups()\n",
    "# Here the '.' decimal is not tagged or captured.\n",
    "# It will useful in scenario where the separator of value in a string is of no use and we need to capture only the values."
   ]
  },
  {
   "attachments": {},
   "cell_type": "markdown",
   "metadata": {},
   "source": [
    "# Q5. Unlike a normal regex pattern, a look-ahead condition does not consume the characters it examines. Describe a situation in which this could make a difference in the results of your programme.\n",
    "\n",
    "         While counting the number of multiple lines or mulytiple sentence in a string the positive look ahead makes a difference, without which we wont get the correct count of lines or sentences in a string."
   ]
  },
  {
   "attachments": {},
   "cell_type": "markdown",
   "metadata": {},
   "source": [
    "# Q6. In standard expressions, what is the difference between positive look-ahead and negative look- ahead?\n",
    "\n",
    "    Positive look-ahead asserts that a pattern must be followed by another pattern, while negative look-ahead asserts that a pattern must not be followed by another pattern. They are useful for specifying conditions in regular expressions without including the matched text in the final result.\n",
    "\n",
    "    Negative look-ahead, denoted by (?!...), asserts that a pattern must not be followed by another pattern while Positive look-ahead, denoted by (?=...), asserts that a pattern must be followed by another pattern."
   ]
  },
  {
   "cell_type": "code",
   "execution_count": 5,
   "metadata": {},
   "outputs": [
    {
     "name": "stdout",
     "output_type": "stream",
     "text": [
      "['apple']\n"
     ]
    }
   ],
   "source": [
    "# Positive look-ahead\n",
    "import re\n",
    "text = \"apple orange banana\"\n",
    "pattern = r\"\\w+(?=\\sorange)\"\n",
    "matches = re.findall(pattern, text)\n",
    "print(matches)"
   ]
  },
  {
   "cell_type": "code",
   "execution_count": 19,
   "metadata": {},
   "outputs": [
    {
     "name": "stdout",
     "output_type": "stream",
     "text": [
      "['apple', 'orange', 'banana']\n"
     ]
    }
   ],
   "source": [
    "# Negative look-ahead\n",
    "import re\n",
    "text = \"apple orange banana\"\n",
    "pattern = r\"\\w+(?!/sorange)\"\n",
    "matches = re.findall(pattern, text)\n",
    "print(matches)"
   ]
  },
  {
   "attachments": {},
   "cell_type": "markdown",
   "metadata": {},
   "source": [
    "# Q7. What is the benefit of referring to groups by name rather than by number in a standard expression?\n",
    "\n",
    "        To referring to groups by name in regular expression provide several benefits :\n",
    "        1. Improved readability\n",
    "        2. Enhanced maintainability\n",
    "        3. Accessing groups by name"
   ]
  },
  {
   "cell_type": "code",
   "execution_count": 21,
   "metadata": {},
   "outputs": [
    {
     "name": "stdout",
     "output_type": "stream",
     "text": [
      "Md\n",
      "Saif\n"
     ]
    }
   ],
   "source": [
    "import re\n",
    "\n",
    "text = \"Md Saif\"\n",
    "pattern = r\"(?P<first_name>\\w+)\\s(?P<last_name>\\w+)\"\n",
    "match = re.match(pattern, text)\n",
    "\n",
    "print(match.group(\"first_name\"))\n",
    "print(match.group(\"last_name\"))"
   ]
  },
  {
   "attachments": {},
   "cell_type": "markdown",
   "metadata": {},
   "source": [
    "# Q8. Can you identify repeated items within a target string using named groups, as in &quot;The cow jumped over the moon&quot;?\n",
    "\n",
    "        "
   ]
  },
  {
   "cell_type": "code",
   "execution_count": 22,
   "metadata": {},
   "outputs": [
    {
     "data": {
      "text/plain": [
       "['The', 'the']"
      ]
     },
     "execution_count": 22,
     "metadata": {},
     "output_type": "execute_result"
    }
   ],
   "source": [
    "import re\n",
    "text = \"The cow jumped over the moon\"\n",
    "regobj=re.compile(r'(?P<w1>The)',re.I)\n",
    "regobj.findall(text)"
   ]
  },
  {
   "attachments": {},
   "cell_type": "markdown",
   "metadata": {},
   "source": [
    "# Q9. When parsing a string, what is at least one thing that the Scanner interface does for you that the re.findall feature does not?\n",
    "\n",
    "    re.search() method either returns None (if the pattern doesn’t match), or a re.MatchObject that contains information about the matching part of the string. This method stops after the first match, so this is best suited for testing a regular expression more than extracting data,whereas Return all non-overlapping matches of pattern in string, as a list of strings. The string is scanned left to right, and matches are returned in the order found."
   ]
  },
  {
   "attachments": {},
   "cell_type": "markdown",
   "metadata": {},
   "source": [
    "# Q10. Does a scanner object have to be named scanner?\n",
    "\n",
    "        The scanner object need not be named scanner. It may have any name."
   ]
  },
  {
   "cell_type": "code",
   "execution_count": 24,
   "metadata": {},
   "outputs": [
    {
     "name": "stdout",
     "output_type": "stream",
     "text": [
      "[('WORD', 'Hello'), ('NUMBER', '123'), ('WORD', 'World')]\n"
     ]
    }
   ],
   "source": [
    "import re\n",
    "\n",
    "tokenizer = re.Scanner([\n",
    "    (r'[a-zA-Z]+', lambda scanner, token: ('WORD', token)),\n",
    "    (r'\\d+', lambda scanner, token: ('NUMBER', token)),\n",
    "    (r'\\s+', None),\n",
    "    ])\n",
    "\n",
    "text = \"Hello 123 World\"\n",
    "tokens, remainder = tokenizer.scan(text)\n",
    "\n",
    "print(tokens)"
   ]
  }
 ],
 "metadata": {
  "kernelspec": {
   "display_name": "Python 3",
   "language": "python",
   "name": "python3"
  },
  "language_info": {
   "codemirror_mode": {
    "name": "ipython",
    "version": 3
   },
   "file_extension": ".py",
   "mimetype": "text/x-python",
   "name": "python",
   "nbconvert_exporter": "python",
   "pygments_lexer": "ipython3",
   "version": "3.8.0"
  },
  "orig_nbformat": 4
 },
 "nbformat": 4,
 "nbformat_minor": 2
}
