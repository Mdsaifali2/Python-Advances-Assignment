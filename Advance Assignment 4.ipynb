{
 "cells": [
  {
   "attachments": {},
   "cell_type": "markdown",
   "metadata": {},
   "source": [
    "# Q1. Which two operator overloading methods can you use in your classes to support iteration?\n",
    "\n",
    "        To support iteration in your classes using operator overloading in Python, you can define the \"__iter__()\" and \"__next__()\" methods.\n",
    "\n",
    "        The \"__iter__()\" method returns the iterator object itself and is called when the \"iter()\" function is called on an object.\n",
    "\n",
    "        The \"__next__()\" method returns the next item in the iterator and is called when the \"next()\" function is called on the iterator."
   ]
  },
  {
   "attachments": {},
   "cell_type": "markdown",
   "metadata": {},
   "source": [
    "# Q2. In what contexts do the two operator overloading methods manage printing?\n",
    "\n",
    "        There are two special methods that can be used to manage printing when working with classes:\n",
    "        \n",
    "        1. __str__() method: This method is used to define the string representation of an object and is called by the \"str()\" function or when the object is printed using \"print()\". It should return a string representing the object.\n",
    "\n",
    "        2. \"__repr__()\" method: This method is used to define a more detailed string representation of an object and is called by the \"repr()\" function or when the object is printed in the interactive console. It should return a string that can be used to recreate the object.\n"
   ]
  },
  {
   "cell_type": "code",
   "execution_count": 12,
   "metadata": {},
   "outputs": [
    {
     "name": "stdout",
     "output_type": "stream",
     "text": [
      "Md Saif Ali (24)\n"
     ]
    },
    {
     "data": {
      "text/plain": [
       "Person('Md Saif Ali', 24)"
      ]
     },
     "execution_count": 12,
     "metadata": {},
     "output_type": "execute_result"
    }
   ],
   "source": [
    "class Person:\n",
    "    def __init__(self, name, age):\n",
    "        self.name = name\n",
    "        self.age = age\n",
    "\n",
    "    def __str__(self):\n",
    "        return f\"{self.name} ({self.age})\"\n",
    "\n",
    "    def __repr__(self):\n",
    "        return f\"Person('{self.name}', {self.age})\"\n",
    "\n",
    "person = Person(\"Md Saif Ali\", 24)\n",
    "\n",
    "print(person)\n",
    "person"
   ]
  },
  {
   "attachments": {},
   "cell_type": "markdown",
   "metadata": {},
   "source": [
    "# Q3. In a class, how do you intercept slice operations?\n",
    "\n",
    "        Slice is a constructor in Python that creates slice object to represent set of indices that the range(start, stop, step) specifies. \"__getitem__\" method can be implement in a class, and the behavior of slicing can be defined inside it."
   ]
  },
  {
   "attachments": {},
   "cell_type": "markdown",
   "metadata": {},
   "source": [
    "# Q4. In a class, how do you capture in-place addition?\n",
    "\n",
    "        In Python, you can capture in-place addition \"+=\" in a class by implementing the \"__iadd__()\" method. This method is used to define the behavior of the += operator for instances of your class."
   ]
  },
  {
   "attachments": {},
   "cell_type": "markdown",
   "metadata": {},
   "source": [
    "# Q5. When is it appropriate to use operator overloading?\n",
    "\n",
    "        Operator Overloading means giving extended meaning beyond their predefined operational meaning. For example operator + is used to add two integers as well as join two strings and merge two lists. It is achievable because '+' operator is overloaded by int class and str class."
   ]
  }
 ],
 "metadata": {
  "kernelspec": {
   "display_name": "Python 3",
   "language": "python",
   "name": "python3"
  },
  "language_info": {
   "codemirror_mode": {
    "name": "ipython",
    "version": 3
   },
   "file_extension": ".py",
   "mimetype": "text/x-python",
   "name": "python",
   "nbconvert_exporter": "python",
   "pygments_lexer": "ipython3",
   "version": "3.8.0"
  },
  "orig_nbformat": 4
 },
 "nbformat": 4,
 "nbformat_minor": 2
}
