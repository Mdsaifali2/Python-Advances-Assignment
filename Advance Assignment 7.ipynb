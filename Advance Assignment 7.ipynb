{
 "cells": [
  {
   "attachments": {},
   "cell_type": "markdown",
   "metadata": {},
   "source": [
    "# Q1. What is the purpose of the try statement?\n",
    "\n",
    "        The try statement is used for exception handling in Python. It allows you to write code that can raise an exception, and handle it gracefully if it occurs.\n",
    "        \n",
    "        Here is the syntax and example :"
   ]
  },
  {
   "cell_type": "code",
   "execution_count": 7,
   "metadata": {},
   "outputs": [
    {
     "name": "stdout",
     "output_type": "stream",
     "text": [
      "Cannot divide by zero\n"
     ]
    }
   ],
   "source": [
    "def divide(x,y):\n",
    "    try:\n",
    "        print(x / y)\n",
    "    except ZeroDivisionError:\n",
    "        print(\"Cannot divide by zero\")\n",
    "    except ValueError:\n",
    "        print(\"Invalid input\")\n",
    "        \n",
    "divide(10,0)"
   ]
  },
  {
   "attachments": {},
   "cell_type": "markdown",
   "metadata": {},
   "source": [
    "# Q2. What are the two most popular try statement variations?\n",
    "\n",
    "        1. try-except: This form of the try statement allows you to catch and handle specific exceptions that occur in the try block.\n",
    "\n",
    "        2. try-finally: This form of the try statement allows you to execute a block of code at the end of the try statement, regardless of whether or not an exception occurred."
   ]
  },
  {
   "cell_type": "code",
   "execution_count": 14,
   "metadata": {},
   "outputs": [
    {
     "name": "stdout",
     "output_type": "stream",
     "text": [
      "Cannot divide by zero\n"
     ]
    }
   ],
   "source": [
    "try:\n",
    "    x = 1 / 0\n",
    "except ZeroDivisionError:\n",
    "    print(\"Cannot divide by zero\")"
   ]
  },
  {
   "attachments": {},
   "cell_type": "markdown",
   "metadata": {},
   "source": [
    "# Q3. What is the purpose of the raise statement?\n",
    "\n",
    "        The raise statement is used to manually raise an exception. It allows you to specify the type of exception that you want to raise, along with an optional error message.\n",
    "\n",
    "        Example of raise statement:"
   ]
  },
  {
   "cell_type": "code",
   "execution_count": 19,
   "metadata": {},
   "outputs": [
    {
     "name": "stdout",
     "output_type": "stream",
     "text": [
      "Error:  division by zero\n"
     ]
    }
   ],
   "source": [
    "def divide(x, y):\n",
    "    if y == 0:\n",
    "        raise ZeroDivisionError(\"division by zero\")\n",
    "    else:\n",
    "        return x / y\n",
    "\n",
    "try:\n",
    "    result = divide(10,0)\n",
    "except ZeroDivisionError as e:\n",
    "    print(\"Error: \", e)\n",
    "else:\n",
    "    print(\"Result is\", result)"
   ]
  },
  {
   "attachments": {},
   "cell_type": "markdown",
   "metadata": {},
   "source": [
    "# Q4. What does the assert statement do, and what other statement is it like?\n",
    "\n",
    "        The \"assert\" statement in Python is used to check whether an expression is true or not and raise an exception if it is false. If the expression is true, then nothing happens and the program continues to execute. It is like the \"if\" statement, but instead of continuing with the program execution, it raises an \"AssertionError\" exception if the condition is not satisfied.\n",
    "\n",
    "        Example : "
   ]
  },
  {
   "cell_type": "code",
   "execution_count": 20,
   "metadata": {},
   "outputs": [
    {
     "ename": "AssertionError",
     "evalue": "x and y are not equal",
     "output_type": "error",
     "traceback": [
      "\u001b[1;31m---------------------------------------------------------------------------\u001b[0m",
      "\u001b[1;31mAssertionError\u001b[0m                            Traceback (most recent call last)",
      "Cell \u001b[1;32mIn[20], line 3\u001b[0m\n\u001b[0;32m      1\u001b[0m x \u001b[39m=\u001b[39m \u001b[39m5\u001b[39m\n\u001b[0;32m      2\u001b[0m y \u001b[39m=\u001b[39m \u001b[39m10\u001b[39m\n\u001b[1;32m----> 3\u001b[0m \u001b[39massert\u001b[39;00m x \u001b[39m==\u001b[39m y, \u001b[39m\"\u001b[39m\u001b[39mx and y are not equal\u001b[39m\u001b[39m\"\u001b[39m\n",
      "\u001b[1;31mAssertionError\u001b[0m: x and y are not equal"
     ]
    }
   ],
   "source": [
    "x = 5\n",
    "y = 10\n",
    "assert x == y, \"x and y are not equal\""
   ]
  },
  {
   "attachments": {},
   "cell_type": "markdown",
   "metadata": {},
   "source": [
    "# Q5. What is the purpose of the with/as argument, and what other statement is it like?\n",
    "\n",
    "        The \"with/as\" statement in Python is used to simplify the process of using resources that need to be explicitly opened and closed, such as files. It provides a way of ensuring that a resource is properly released after being used, regardless of whether an exception is raised or not. \n",
    "\n",
    "        The with/as statement is similar to a \"try/finally\" statement, but provides a more concise and readable way of working with resources that need to be explicitly opened and closed."
   ]
  }
 ],
 "metadata": {
  "kernelspec": {
   "display_name": "Python 3",
   "language": "python",
   "name": "python3"
  },
  "language_info": {
   "codemirror_mode": {
    "name": "ipython",
    "version": 3
   },
   "file_extension": ".py",
   "mimetype": "text/x-python",
   "name": "python",
   "nbconvert_exporter": "python",
   "pygments_lexer": "ipython3",
   "version": "3.8.0"
  },
  "orig_nbformat": 4
 },
 "nbformat": 4,
 "nbformat_minor": 2
}
