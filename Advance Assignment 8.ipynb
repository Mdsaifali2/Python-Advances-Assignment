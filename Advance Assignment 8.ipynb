{
 "cells": [
  {
   "attachments": {},
   "cell_type": "markdown",
   "metadata": {},
   "source": [
    "# Q1. What are the two latest user-defined exception constraints in Python 3.X?\n",
    "\n",
    "        \"assert\" and \"raise\" are the two user-defined exception constraints in Python 3.X"
   ]
  },
  {
   "attachments": {},
   "cell_type": "markdown",
   "metadata": {},
   "source": [
    "# Q2. How are class-based exceptions that have been raised matched to handlers?\n",
    "\n",
    "        We can define custom exceptions by creating a new class. This exception class has to be derived, either directly or indirectly from built-in \"Exception\" class. After making a custum class for exception we can \"raise\" statement with an optional error message as we want.\n",
    "\n"
   ]
  },
  {
   "cell_type": "code",
   "execution_count": 3,
   "metadata": {},
   "outputs": [
    {
     "ename": "Custom_Exception",
     "evalue": "Value provided in program is wrong",
     "output_type": "error",
     "traceback": [
      "\u001b[1;31m---------------------------------------------------------------------------\u001b[0m",
      "\u001b[1;31mCustom_Exception\u001b[0m                          Traceback (most recent call last)",
      "Cell \u001b[1;32mIn[3], line 8\u001b[0m\n\u001b[0;32m      6\u001b[0m x \u001b[39m=\u001b[39m \u001b[39m111\u001b[39m\n\u001b[0;32m      7\u001b[0m \u001b[39mif\u001b[39;00m x \u001b[39m!=\u001b[39m \u001b[39m110\u001b[39m:\n\u001b[1;32m----> 8\u001b[0m     \u001b[39mraise\u001b[39;00m Custom_Exception(\u001b[39m'\u001b[39m\u001b[39mValue provided in program is wrong\u001b[39m\u001b[39m'\u001b[39m)\n",
      "\u001b[1;31mCustom_Exception\u001b[0m: Value provided in program is wrong"
     ]
    }
   ],
   "source": [
    "class Custom_Exception(Exception):  \n",
    "    def __init__(self,error):\n",
    "        self.error = error\n",
    "        \n",
    "        \n",
    "x = 111\n",
    "if x != 110:\n",
    "    raise Custom_Exception('Value provided in program is wrong')"
   ]
  },
  {
   "attachments": {},
   "cell_type": "markdown",
   "metadata": {},
   "source": [
    "# Q3. Describe two methods for attaching context information to exception artefacts.\n",
    "        \n",
    "        1. By using raise keyword. It will also display Traceback of the recent exception raised.\n",
    "\n",
    "        2. By using logging.exception() method, we can log log messages with level ERROR on the logger. I will store the information like type of error, line number, file name and path."
   ]
  },
  {
   "attachments": {},
   "cell_type": "markdown",
   "metadata": {},
   "source": [
    "# Q4. Describe two methods for specifying the text of an exception object&#39;s error message.\n",
    "\n",
    "        1. Using the logging.error() method an\n",
    "        2. We can print the text of an exception, by using the object of an Exception class. We can access different attributes like messgae, args, traceback from that object."
   ]
  },
  {
   "cell_type": "code",
   "execution_count": 5,
   "metadata": {},
   "outputs": [
    {
     "name": "stderr",
     "output_type": "stream",
     "text": [
      "ERROR:root:[Errno 2] No such file or directory: 'one.txt'\n"
     ]
    }
   ],
   "source": [
    "import logging as lg\n",
    "try:\n",
    "    file = open('one.txt','r')\n",
    "except Exception as e:\n",
    "    lg.error(e)"
   ]
  },
  {
   "cell_type": "code",
   "execution_count": 6,
   "metadata": {},
   "outputs": [
    {
     "name": "stdout",
     "output_type": "stream",
     "text": [
      "can only concatenate str (not \"int\") to str\n"
     ]
    }
   ],
   "source": [
    "try:\n",
    "    a = 'saif'\n",
    "    b = 2    \n",
    "    c = a+b\n",
    "except TypeError as e:\n",
    "    print(e)"
   ]
  },
  {
   "attachments": {},
   "cell_type": "markdown",
   "metadata": {},
   "source": [
    "# Q5. Why do you no longer use string-based exceptions?\n",
    "\n",
    "        In older versions of Python, it was common to raise exceptions by passing a string as the argument to the built-in Exception class. However, this practice is discouraged in modern Python code because it can make it harder to catch and handle exceptions. Specifically, it requires catching a generic Exception object and then inspecting its message attribute to determine what went wrong, which can be error-prone and make debugging more difficult.\n",
    "\n",
    "        Instead, it's generally better to create custom exception classes that inherit from the built-in Exception class and provide more specific information about the error. \n"
   ]
  }
 ],
 "metadata": {
  "kernelspec": {
   "display_name": "Python 3",
   "language": "python",
   "name": "python3"
  },
  "language_info": {
   "codemirror_mode": {
    "name": "ipython",
    "version": 3
   },
   "file_extension": ".py",
   "mimetype": "text/x-python",
   "name": "python",
   "nbconvert_exporter": "python",
   "pygments_lexer": "ipython3",
   "version": "3.8.0"
  },
  "orig_nbformat": 4
 },
 "nbformat": 4,
 "nbformat_minor": 2
}
